{
 "cells": [
  {
   "cell_type": "code",
   "execution_count": 1,
   "metadata": {},
   "outputs": [],
   "source": [
    "import numpy as np\n",
    "import pandas as pd"
   ]
  },
  {
   "cell_type": "code",
   "execution_count": 2,
   "metadata": {},
   "outputs": [
    {
     "name": "stdout",
     "output_type": "stream",
     "text": [
      "6.123233995736766e-17\n",
      "1.0\n"
     ]
    }
   ],
   "source": [
    "import math\n",
    "\n",
    "print(math.cos(math.pi/2))  # should be zero but has some value so avoid cos.pi/2==0 use if(cos(pi/2) <= 1E-15)\n",
    "print(math.sin(math.pi/2))"
   ]
  },
  {
   "cell_type": "markdown",
   "metadata": {},
   "source": [
    "### Vector"
   ]
  },
  {
   "cell_type": "code",
   "execution_count": 13,
   "metadata": {},
   "outputs": [
    {
     "name": "stdout",
     "output_type": "stream",
     "text": [
      "[[ 4]\n",
      " [-1]\n",
      " [ 2]]\n",
      "[[0]\n",
      " [0]\n",
      " [0]]\n",
      "[[ 4]\n",
      " [-1]]\n",
      "[[ 4 -1  2]]\n",
      "4.58257569495584\n"
     ]
    }
   ],
   "source": [
    "vector = np.array([[4],[-1],[2]])\n",
    "print (vector)\n",
    "zero_vector=np.array([[0],[0],[0]])\n",
    "print(zero_vector)\n",
    "print(vector[0:2])\n",
    "print(vector.T)\n",
    "print(np.linalg.norm(vector))  # magnitude or normalization or magnitude from (0,0,0)"
   ]
  },
  {
   "cell_type": "markdown",
   "metadata": {},
   "source": [
    "### Exercise "
   ]
  },
  {
   "cell_type": "code",
   "execution_count": 5,
   "metadata": {},
   "outputs": [
    {
     "data": {
      "text/plain": [
       "8.06225774829855"
      ]
     },
     "execution_count": 5,
     "metadata": {},
     "output_type": "execute_result"
    }
   ],
   "source": [
    "v1 = np.array([[4],[-1],[2]])\n",
    "v2 = np.array([[2],[4],[8]])\n",
    "np.linalg.norm(v1-v2)   # Euclidean distance"
   ]
  },
  {
   "cell_type": "markdown",
   "metadata": {},
   "source": [
    "### Matrix"
   ]
  },
  {
   "cell_type": "code",
   "execution_count": 3,
   "metadata": {},
   "outputs": [
    {
     "data": {
      "text/plain": [
       "9"
      ]
     },
     "execution_count": 3,
     "metadata": {},
     "output_type": "execute_result"
    }
   ],
   "source": [
    "m1 = np.array([[1,2],[3,4]])\n",
    "m2 = np.array([[5,6,7],[8,9,10],[11,12,13]])\n",
    "m2[1,1]"
   ]
  },
  {
   "cell_type": "code",
   "execution_count": 25,
   "metadata": {},
   "outputs": [
    {
     "name": "stdout",
     "output_type": "stream",
     "text": [
      "[[1 0 0]\n",
      " [0 2 0]\n",
      " [0 0 3]]\n",
      "\n",
      "\n",
      "[[1. 0. 0.]\n",
      " [0. 1. 0.]\n",
      " [0. 0. 1.]]\n",
      "[[ 2  3  1]\n",
      " [ 3  4 -1]\n",
      " [ 1 -1  1]]\n",
      "[[ 2  3  1]\n",
      " [ 3  4 -1]\n",
      " [ 1 -1  1]]\n",
      "\n",
      "\n",
      "[[1 0 0]\n",
      " [4 5 0]\n",
      " [7 8 9]]\n",
      "\n",
      "\n",
      "[[0 0 0]\n",
      " [4 0 0]\n",
      " [7 8 0]]\n",
      "\n",
      "\n",
      "[[1 2 3]\n",
      " [0 5 6]\n",
      " [0 0 9]]\n",
      "\n",
      "\n",
      "[[0 2 3]\n",
      " [0 0 6]\n",
      " [0 0 0]]\n"
     ]
    }
   ],
   "source": [
    "print(np.diag([1,2,3]))\n",
    "print(\"\\n\")\n",
    "print(np.identity(3))\n",
    "\n",
    "#Symetric matrix = a = a.T\n",
    "\n",
    "s1 = np.array([[2,3,1],[3,4,-1],[1,-1,1]])\n",
    "print(s1)\n",
    "print(s1.T)\n",
    "print(\"\\n\")\n",
    "\n",
    "#Triangular matrix\n",
    "\n",
    "print(np.tril([[1,2,3],[4,5,6],[7,8,9]]))\n",
    "print(\"\\n\")\n",
    "print(np.tril([[1,2,3],[4,5,6],[7,8,9]],-1))\n",
    "print(\"\\n\")\n",
    "print(np.triu([[1,2,3],[4,5,6],[7,8,9]]))\n",
    "print(\"\\n\")\n",
    "print(np.triu([[1,2,3],[4,5,6],[7,8,9]],1))"
   ]
  },
  {
   "cell_type": "markdown",
   "metadata": {},
   "source": [
    "### Operations on Vectors and Matrices"
   ]
  },
  {
   "cell_type": "code",
   "execution_count": 35,
   "metadata": {},
   "outputs": [
    {
     "name": "stdout",
     "output_type": "stream",
     "text": [
      "[[ 73 -49  10]]\n",
      "\n",
      "\n",
      "[[ 73 -49  10]\n",
      " [-63  32  79]]\n",
      "\n",
      "\n",
      "[[ 126 -582  210]]\n",
      "\n",
      "\n",
      "[[ 126 -582  210]\n",
      " [-516  156  420]]\n",
      "\n",
      "\n"
     ]
    }
   ],
   "source": [
    "vector_1 = np.array([[21, -97, 35]]) \n",
    "vector_2 = np.array([[52, 48, -25]]) \n",
    "print(vector_1+vector_2)\n",
    "print(\"\\n\")\n",
    "matrix_1 = np.array([[21, -97, 35], [-86, 26, 70]]) \n",
    "matrix_2 = np.array([[52, 48, -25], [23, 6, 9]]) \n",
    "print(matrix_1+matrix_2)\n",
    "print(\"\\n\")\n",
    "print(6*vector_1)\n",
    "print(\"\\n\")\n",
    "print(6*matrix_1)\n",
    "print(\"\\n\")"
   ]
  },
  {
   "cell_type": "markdown",
   "metadata": {},
   "source": [
    "#### Inner Product"
   ]
  },
  {
   "cell_type": "code",
   "execution_count": 37,
   "metadata": {},
   "outputs": [
    {
     "name": "stdout",
     "output_type": "stream",
     "text": [
      "[[ 1092 -4656  -875]]\n"
     ]
    }
   ],
   "source": [
    "vector_1 = np.array([[21, -97, 35]]) \n",
    "vector_2 = np.array([[52, 48, -25]]) \n",
    "print(vector_1*vector_2)\n"
   ]
  },
  {
   "cell_type": "markdown",
   "metadata": {},
   "source": [
    "##### Angle Between Vectors\n",
    "###### cos(o) = (v1.T).v2/norm(v1).norm(v2)"
   ]
  },
  {
   "cell_type": "code",
   "execution_count": 200,
   "metadata": {},
   "outputs": [
    {
     "name": "stdout",
     "output_type": "stream",
     "text": [
      "32.31153323742385\n",
      "Angle Between Two Vector : 32.31153323742385\n"
     ]
    }
   ],
   "source": [
    "def angle_between(v1, v2):\n",
    "    a = np.dot(v1.T,v2)\n",
    "    b = np.linalg.norm(v1)*np.linalg.norm(v2)\n",
    "    return a/b\n",
    "\n",
    "v1 = np.array([1,2,3])\n",
    "v2 = np.array([1,0,3]) \n",
    "c = np.arccos(angle_between(v1,v2)) ## cosine inverse\n",
    "print(np.rad2deg(c))\n",
    "print(\"Angle Between Two Vector :\",np.rad2deg(np.arccos(angle_between(v1,v2))))"
   ]
  },
  {
   "cell_type": "markdown",
   "metadata": {},
   "source": [
    "#### Cauchy-Schwarz Inequality\n",
    "###### Basically, if the inner product of the vectors is equal to the product of the norm of the vectors, the vectors are linearly dependent.\n",
    "###### (v1.T).v2 <= ||v1||.||v2||\n",
    "###### vector1 and vector2 in dependent if they are divisible of each other\n",
    "###### The linearly dependent vectors are parallel to each other."
   ]
  },
  {
   "cell_type": "code",
   "execution_count": 197,
   "metadata": {},
   "outputs": [
    {
     "name": "stdout",
     "output_type": "stream",
     "text": [
      "Dependent\n"
     ]
    }
   ],
   "source": [
    "matrix_1 = np.array([3,-1,2]) \n",
    "matrix_2 = np.array([2,6,-1]) \n",
    "# print(np.abs(np.dot(matrix_1.T,matrix_2)))\n",
    "# print(np.dot(np.linalg.norm(matrix_1), np.linalg.norm(matrix_2)))\n",
    "if((np.abs(np.dot(matrix_1.T,matrix_2))) <= np.dot(np.linalg.norm(matrix_1), np.linalg.norm(matrix_2))):\n",
    "  print(\"Dependent\")\n",
    "else:\n",
    "  print(\"Independent\")\n",
    "\n",
    "def Cauchy_Schwarz(v1,v2):\n",
    "    if((np.abs(np.dot(v1.T,v2))) <= np.dot(np.linalg.norm(v1), np.linalg.norm(v2))):\n",
    "        print(\"Dependent\")\n",
    "    else:\n",
    "        print(\"Independent\")"
   ]
  },
  {
   "cell_type": "markdown",
   "metadata": {},
   "source": [
    "###### Exercise"
   ]
  },
  {
   "cell_type": "code",
   "execution_count": 198,
   "metadata": {},
   "outputs": [
    {
     "name": "stdout",
     "output_type": "stream",
     "text": [
      "Independent\n",
      "Dependent\n"
     ]
    }
   ],
   "source": [
    "v1 = np.array([[1],[1],[1]])\n",
    "v2 = np.array([[2],[2],[2]])\n",
    "Cauchy_Schwarz(v1,v2)\n",
    "v3 = np.array([[1],[1],[1]])\n",
    "v4 = np.array([[1],[3],[1]])\n",
    "Cauchy_Schwarz(v3,v4)"
   ]
  },
  {
   "cell_type": "markdown",
   "metadata": {},
   "source": [
    "##### Matrix Vector Multiplication"
   ]
  },
  {
   "cell_type": "code",
   "execution_count": 201,
   "metadata": {},
   "outputs": [
    {
     "name": "stdout",
     "output_type": "stream",
     "text": [
      "Product:  [[14]\n",
      " [32]\n",
      " [50]]\n"
     ]
    }
   ],
   "source": [
    "Matrix_3x3 = np.array([[1, 2, 3], [4, 5, 6], [7, 8, 9]])\n",
    "column_vector = np.array([[1], [2], [3]])\n",
    "# print(column_vector.shape)\n",
    "product = np.matmul(Matrix_3x3,column_vector,)\n",
    "print(\"Product: \", product)"
   ]
  },
  {
   "cell_type": "markdown",
   "metadata": {},
   "source": [
    "##### Matrix Multiplication"
   ]
  },
  {
   "cell_type": "code",
   "execution_count": 204,
   "metadata": {},
   "outputs": [
    {
     "name": "stdout",
     "output_type": "stream",
     "text": [
      "[[33 51  2 13]\n",
      " [42 60  4 17]\n",
      " [51 69  6 21]]\n"
     ]
    }
   ],
   "source": [
    "import numpy as np\n",
    "Matrix_3x3 = np.array([[1, 4, 7], [2, 5, 8], [3, 6, 9]])\n",
    "Matrix_4x3 = np.array([[4, 2, 3],[2, 0, 7],[-1, 6, -3],[1, 3, 0]])\n",
    "result=np.dot(Matrix_3x3,Matrix_4x3.T)\n",
    "print(result)"
   ]
  },
  {
   "cell_type": "markdown",
   "metadata": {},
   "source": [
    "##### Permutation Matrix"
   ]
  },
  {
   "cell_type": "code",
   "execution_count": 207,
   "metadata": {},
   "outputs": [
    {
     "name": "stdout",
     "output_type": "stream",
     "text": [
      "[[0 2 0]\n",
      " [4 0 0]\n",
      " [0 0 9]]\n"
     ]
    }
   ],
   "source": [
    "mat = np.array([[1, 2, 3], [4, 5, 6], [7, 8, 9]])\n",
    "ide = np.array([[0,1,0],[1,0,0],[0,0,1]])\n",
    "print(mat*ide)"
   ]
  },
  {
   "cell_type": "markdown",
   "metadata": {},
   "source": [
    "#### Orthogonal Projection\n",
    "###### Orthogonal projection of vector v1 on vector v2 is the point (p) on v2 which is closest to v1. \n",
    "###### p = ((v2.T).v1/(v2.T).v2).v2"
   ]
  },
  {
   "cell_type": "code",
   "execution_count": 210,
   "metadata": {},
   "outputs": [
    {
     "name": "stdout",
     "output_type": "stream",
     "text": [
      "[2.5 2.5]\n",
      "[2.5 2.5]\n"
     ]
    }
   ],
   "source": [
    "vector_1 = np.array([2,3])\n",
    "vector_2 = np.array([4,4]) \n",
    "orthogonal_projection1 = np.dot(np.true_divide(np.dot(vector_2.T,vector_1), np.dot(vector_2.T,vector_2)),vector_2)\n",
    "orthogonal_projection2 = np.dot(np.dot(vector_2.T,vector_1)/np.dot(vector_2.T,vector_2),vector_2)\n",
    "print(orthogonal_projection1)\n",
    "print(orthogonal_projection2)"
   ]
  },
  {
   "cell_type": "markdown",
   "metadata": {},
   "source": [
    "#### Determinants"
   ]
  },
  {
   "cell_type": "code",
   "execution_count": 211,
   "metadata": {},
   "outputs": [
    {
     "name": "stdout",
     "output_type": "stream",
     "text": [
      "[-14.  17.  -9.]\n"
     ]
    }
   ],
   "source": [
    "matrix = np.array([ [[1, 2], [9, 4]], [[1, 2], [-8, 1]], [[1, 3], [3, 0]] ])\n",
    "print(np.linalg.det(matrix))"
   ]
  },
  {
   "cell_type": "markdown",
   "metadata": {},
   "source": [
    "##### Exercise"
   ]
  },
  {
   "cell_type": "code",
   "execution_count": 219,
   "metadata": {},
   "outputs": [
    {
     "name": "stdout",
     "output_type": "stream",
     "text": [
      "-28.00000000000001\n",
      "27.999999999999996\n",
      "27.999999999999996\n",
      "-56.00000000000002\n",
      "-167.99999999999997\n"
     ]
    }
   ],
   "source": [
    "m1 = np.array([[3,1,4],[-1,2,1],[2,3,1]])\n",
    "print(np.linalg.det(m1))\n",
    "m2 = np.array([[1,3,4],[2,-1,1],[3,2,1]])\n",
    "print(np.linalg.det(m2))\n",
    "m3 = np.array([[3,4,1],[-1,1,2],[2,1,3]])\n",
    "print(np.linalg.det(m3))\n",
    "m4 = np.array([[6,1,4],[-2,2,1],[4,3,1]])\n",
    "print(np.linalg.det(m4))\n",
    "m5 = np.array([[6,3,4],[-2,6,1],[4,9,1]])\n",
    "print(np.linalg.det(m5))"
   ]
  },
  {
   "cell_type": "markdown",
   "metadata": {},
   "source": [
    "#### Matrix Inversion"
   ]
  },
  {
   "cell_type": "code",
   "execution_count": 222,
   "metadata": {},
   "outputs": [
    {
     "name": "stdout",
     "output_type": "stream",
     "text": [
      "[[[-0.28571429  0.14285714]\n",
      "  [ 0.64285714 -0.07142857]]\n",
      "\n",
      " [[ 0.05882353 -0.11764706]\n",
      "  [ 0.47058824  0.05882353]]\n",
      "\n",
      " [[ 0.          0.33333333]\n",
      "  [ 0.33333333 -0.11111111]]]\n"
     ]
    }
   ],
   "source": [
    "matrix = np.array([ [[1, 2], [9, 4]], [[1, 2], [-8, 1]], [[1, 3], [3, 0]] ])\n",
    "print(np.linalg.inv(matrix))"
   ]
  },
  {
   "cell_type": "markdown",
   "metadata": {},
   "source": [
    "##### Orthogonal Matrix"
   ]
  },
  {
   "cell_type": "code",
   "execution_count": 235,
   "metadata": {},
   "outputs": [
    {
     "name": "stdout",
     "output_type": "stream",
     "text": [
      "[[ True  True]\n",
      " [ True  True]]\n",
      "[[ True  True]\n",
      " [ True  True]]\n",
      "Is it a orthogonal matrix:  True\n"
     ]
    }
   ],
   "source": [
    "matrix = np.array([[1.0,0.0],[0.,1.]])\n",
    "comparison = np.dot(matrix.T,matrix) == np.dot(matrix,matrix.T)\n",
    "print(comparison)\n",
    "comparison_2 =  np.dot(matrix.T,matrix)== np.eye(2)\n",
    "print(comparison_2)\n",
    "comparison_3 = comparison == comparison_2\n",
    "equal_arrays = comparison_3.all()\n",
    "print(\"Is it a orthogonal matrix: \",equal_arrays)"
   ]
  },
  {
   "cell_type": "markdown",
   "metadata": {},
   "source": [
    "##### Exercise"
   ]
  },
  {
   "cell_type": "code",
   "execution_count": 242,
   "metadata": {},
   "outputs": [
    {
     "name": "stdout",
     "output_type": "stream",
     "text": [
      "[[ 0.707168  0.        0.707168]\n",
      " [ 0.707168  0.       -0.707168]\n",
      " [ 0.        1.        0.      ]]\n",
      "[[ 0.70704557  0.          0.70704557]\n",
      " [ 0.70704557 -0.         -0.70704557]\n",
      " [ 0.          1.          0.        ]]\n"
     ]
    },
    {
     "data": {
      "text/plain": [
       "array([[False,  True, False],\n",
       "       [False,  True, False],\n",
       "       [ True,  True,  True]])"
      ]
     },
     "execution_count": 242,
     "metadata": {},
     "output_type": "execute_result"
    }
   ],
   "source": [
    "q = np.array([[0.707168,0.707168,0.],[0.,0.,1],[0.707168,-0.707168,0.]])\n",
    "q_inv = np.linalg.inv(q)\n",
    "print(q.T)\n",
    "print(q_inv)\n",
    "q.T == q_inv"
   ]
  },
  {
   "cell_type": "markdown",
   "metadata": {},
   "source": [
    "#### Linear Independence"
   ]
  },
  {
   "cell_type": "markdown",
   "metadata": {},
   "source": [
    "#### Rank of a Matrix\n",
    "###### Rank of a matrix A of dimension (m,n) indicates the number of linearly independent columns (or rows) of A.\n",
    "\n",
    "RankA≤min⁡(m,n)\n",
    "\n",
    "If Rank(A)=min(m,n) then A is called a full rank matrix. Rank of matrix is always greater than 0 (strictly positive integer)\n",
    "\n",
    "Rank(A)≥1"
   ]
  },
  {
   "cell_type": "code",
   "execution_count": 245,
   "metadata": {},
   "outputs": [
    {
     "name": "stdout",
     "output_type": "stream",
     "text": [
      " Rank : 2\n",
      "[[1. 0. 0. 0.]\n",
      " [0. 1. 0. 0.]\n",
      " [0. 0. 1. 0.]\n",
      " [0. 0. 0. 1.]]\n",
      " Rank : 4\n"
     ]
    }
   ],
   "source": [
    "matrix = np.array([[1.0,0.0],[0.,1.]])\n",
    "print(\" Rank :\",np.linalg.matrix_rank(matrix))\n",
    "matrix_full_rank = np.eye(4)\n",
    "print(np.eye(4))\n",
    "print(\" Rank :\",np.linalg.matrix_rank(matrix_full_rank))"
   ]
  },
  {
   "cell_type": "markdown",
   "metadata": {},
   "source": [
    "### Introduction- Linear Transformation\n",
    "###### If A is a matrix of dimension (m, n) and x is a vector in n dimension then Ax is a new vector. The vector x is transformed into another vector Ax.\n",
    "\n",
    "Some examples of such transformation are:\n",
    "\n",
    "Stretching\n",
    "\n",
    "Reflection\n",
    "\n",
    "Rotation\n",
    "\n",
    "Projection"
   ]
  },
  {
   "cell_type": "markdown",
   "metadata": {},
   "source": [
    "#### Stretching\n",
    "###### C.I muttiplied by a matrix or vector streches along the vector or matrix by c where I = Identity matrix"
   ]
  },
  {
   "cell_type": "code",
   "execution_count": 267,
   "metadata": {},
   "outputs": [
    {
     "name": "stdout",
     "output_type": "stream",
     "text": [
      "Matrix: [[1 5 9]\n",
      " [2 7 3]\n",
      " [8 4 6]]\n",
      "Streched Matrix: [[1 1 1 5 5 5 9 9 9]\n",
      " [2 2 2 7 7 7 3 3 3]\n",
      " [8 8 8 4 4 4 6 6 6]]\n"
     ]
    },
    {
     "data": {
      "text/plain": [
       "array([[1, 1, 1, 5, 5, 5, 9, 9, 9],\n",
       "       [2, 2, 2, 7, 7, 7, 3, 3, 3],\n",
       "       [8, 8, 8, 4, 4, 4, 6, 6, 6]])"
      ]
     },
     "execution_count": 267,
     "metadata": {},
     "output_type": "execute_result"
    }
   ],
   "source": [
    "### Below doubtful\n",
    "\n",
    "matrix = np.array([[1, 5, 9],\n",
    "              [2, 7, 3],\n",
    "              [8, 4, 6]])\n",
    "print(\"Matrix:\",matrix)\n",
    "print(\"Streched Matrix:\",np.repeat(matrix,3,axis = 1))\n",
    "np.repeat(matrix,3,axis = 1)"
   ]
  },
  {
   "cell_type": "code",
   "execution_count": 265,
   "metadata": {},
   "outputs": [
    {
     "name": "stdout",
     "output_type": "stream",
     "text": [
      "[ 3.  6.  9. 12.]\n",
      "[[ 3. 15. 27.]\n",
      " [ 6. 21.  9.]\n",
      " [24. 12. 18.]]\n"
     ]
    }
   ],
   "source": [
    "matrix = np.array([[1, 5, 9],\n",
    "              [2, 7, 3],\n",
    "              [8, 4, 6]])\n",
    "vector = np.array([1,2,3,4])\n",
    "print(np.dot(np.identity(4)*3,vector))\n",
    "print(np.dot(np.identity(3)*3,matrix))"
   ]
  },
  {
   "cell_type": "markdown",
   "metadata": {},
   "source": [
    "#### Reflection"
   ]
  },
  {
   "cell_type": "markdown",
   "metadata": {},
   "source": [
    "##### Reflection across x-axis is characterized by the transforming matrix \n",
    "\n",
    "a = [[1,0],[0,-1]] which represents (x,-y)\n",
    "\n",
    "mat.A = reflected image \n",
    "\n",
    "##### Reflection across y-axis is characterized by the transforming matrix \n",
    "\n",
    "a = [[-1,0],[0,1]] which represents (-x,y)\n",
    "\n",
    "mat.A = reflected image \n",
    "\n",
    "##### Linear Transformation matrix A with columns (0,1) and (1,0) reflect a 2 dimensional object across the line x=y"
   ]
  },
  {
   "cell_type": "code",
   "execution_count": 276,
   "metadata": {},
   "outputs": [
    {
     "name": "stdout",
     "output_type": "stream",
     "text": [
      "[[-1 -2 -3]\n",
      " [-1 -2 -1]]\n"
     ]
    }
   ],
   "source": [
    "a = np.array([[1,0],[0,-1]])\n",
    "mat = np.array([[-1,-2,-3],[1,2,1]])  ### mat is the 3 vertices of the traingle on x-y plane values (x,y)\n",
    "print(np.dot(a,mat))"
   ]
  },
  {
   "cell_type": "markdown",
   "metadata": {},
   "source": [
    "##### Exercise"
   ]
  },
  {
   "cell_type": "code",
   "execution_count": 280,
   "metadata": {},
   "outputs": [
    {
     "name": "stdout",
     "output_type": "stream",
     "text": [
      "[[ 1  2  1]\n",
      " [-1 -2 -3]]\n"
     ]
    }
   ],
   "source": [
    "a = np.array([[0,1],[1,0]])\n",
    "mat = np.array([[-1,-2,-3],[1,2,1]])\n",
    "print(np.dot(a,mat))"
   ]
  },
  {
   "cell_type": "markdown",
   "metadata": {},
   "source": [
    "#### Rotation\n",
    "\n",
    "Rotation of an object by θ degrees is characterized by matrix\n",
    "\n",
    "a = [[cos(o) sin(o)],[-sin(o),cos(o)]]\n",
    "\n",
    ", where θ represents the angle in counter clockwise direction.\n",
    "\n",
    "If vertices of the triangle are represented as\n",
    "\n",
    "p = [[-1,-2,-3],[1,2,1]]\n",
    "\n",
    ", then the rotated triangle is represented as A.P where\n",
    "\n",
    "a = [[0,1],[-1,0]]\n",
    "\n",
    "which is (y,-x)"
   ]
  },
  {
   "cell_type": "code",
   "execution_count": 282,
   "metadata": {},
   "outputs": [
    {
     "name": "stdout",
     "output_type": "stream",
     "text": [
      "[[1 2 1]\n",
      " [1 2 3]]\n"
     ]
    }
   ],
   "source": [
    "mat = np.array([[-1,-2,-3],[1,2,1]])\n",
    "a = np.array([[0,1],[-1,0]])\n",
    "print(np.dot(a,mat))"
   ]
  },
  {
   "cell_type": "code",
   "execution_count": 283,
   "metadata": {},
   "outputs": [
    {
     "name": "stdout",
     "output_type": "stream",
     "text": [
      "Matrix: [[1 2 9]\n",
      " [2 9 3]\n",
      " [4 4 6]]\n",
      "Rotated Matrix: [[9 3 6]\n",
      " [2 9 4]\n",
      " [1 2 4]]\n"
     ]
    }
   ],
   "source": [
    "matrix = np.array([[1, 2, 9],\n",
    "              [2, 9, 3],\n",
    "              [4, 4, 6]])\n",
    "print(\"Matrix:\",matrix)\n",
    "print(\"Rotated Matrix:\",np.rot90(matrix))"
   ]
  },
  {
   "cell_type": "markdown",
   "metadata": {},
   "source": [
    "#### Projection\n",
    "\n",
    "Projection of an object along x-axis is characterized by matrix\n",
    "\n",
    "a = [[1,0],[0,0]]\n",
    "\n",
    " i.e. (x,0) and that along y-axis by matrix\n",
    " \n",
    " a = [[0,0],[0,1]]\n",
    " \n",
    "  i.e. (0,y)"
   ]
  },
  {
   "cell_type": "code",
   "execution_count": 284,
   "metadata": {},
   "outputs": [
    {
     "name": "stdout",
     "output_type": "stream",
     "text": [
      "[[-1 -2 -3]\n",
      " [ 0  0  0]]\n"
     ]
    }
   ],
   "source": [
    "mat = np.array([[-1,-2,-3],[1,2,1]])\n",
    "a = np.array([[1,0],[0,0]])\n",
    "print(np.dot(a,mat))"
   ]
  },
  {
   "cell_type": "markdown",
   "metadata": {},
   "source": [
    "## Linear Equations"
   ]
  },
  {
   "cell_type": "code",
   "execution_count": 286,
   "metadata": {},
   "outputs": [
    {
     "name": "stdout",
     "output_type": "stream",
     "text": [
      "[[ 1  2  2]\n",
      " [ 3  5  3]\n",
      " [-1  4 -1]]\n",
      "[[ 4]\n",
      " [19]\n",
      " [ 7]]\n",
      "[[ 1  2  2  4]\n",
      " [ 3  5  3 19]\n",
      " [-1  4 -1  7]]\n"
     ]
    },
    {
     "data": {
      "text/plain": [
       "array([[ 1,  2,  2,  4],\n",
       "       [ 3,  5,  3, 19],\n",
       "       [-1,  4, -1,  7]])"
      ]
     },
     "execution_count": 286,
     "metadata": {},
     "output_type": "execute_result"
    }
   ],
   "source": [
    "Symmetrical_matrix = np.array([[1,2,2],[3,5,3],[-1,4,-1]])\n",
    "vector=np.array([[4],[19],[7]])\n",
    "print(Symmetrical_matrix)\n",
    "print(vector)\n",
    "print(np.c_[Symmetrical_matrix,vector])\n",
    "np.c_[Symmetrical_matrix,vector]  ## np.c_ concatenates along the columns and np.r_ concatenates along the rows"
   ]
  },
  {
   "cell_type": "markdown",
   "metadata": {},
   "source": [
    "###### Solving a system of linear equations is equivalent to finding where the set of planes represented by linear equations meet. For the matrix A, if m=n and A is a full rank matrix, then there exists a unique solution for linear equations.\n",
    "\n",
    "In the previous example,which is of the form Ax=b\n",
    "\n",
    "It is observed that A ha dimension (3,3) i.e. m=3 and n=3, and that the rank of A is 3.\n",
    "\n",
    "Therefore, he set of linear equations represented by A has a unique solution.\n",
    "\n",
    "This can be solved in python using\n",
    "\n",
    "##### A system of n linear equations with n variables has unique solution if\n",
    "\n",
    "##### 1. Coefficient matrix is full rank\n",
    "##### 2. Determinant of coefficient materix is non-zero"
   ]
  },
  {
   "cell_type": "code",
   "execution_count": 295,
   "metadata": {},
   "outputs": [
    {
     "name": "stdout",
     "output_type": "stream",
     "text": [
      "Rank of the matrix is : 1\n",
      "Set of Planes [3. 1. 2.]\n"
     ]
    }
   ],
   "source": [
    "mat1 = np.array([[1, 3, -1],\n",
    "              [2, 5, 4],\n",
    "              [2, 3, -1]])\n",
    "\n",
    "mat2 = np.array([4,19,7])\n",
    "print(\"Rank of the matrix is :\",np.linalg.matrix_rank(mat2))\n",
    "# print(matrix_2.shape)\n",
    "x= np.linalg.solve(mat1, mat2)\n",
    "print(\"Set of Planes\",x)"
   ]
  },
  {
   "cell_type": "markdown",
   "metadata": {},
   "source": [
    "It will be useful to investigate how to solve a system of Linear equations assuming m=n (i.e. square matrix) and all columns (or rows) are linearly independent.\n",
    "\n",
    "Two commonly used techniques to solve a system of Linear equations are:\n",
    "\n",
    "### 1. Gaussian Elimination\n",
    "\n",
    "### 2. Cramer’s Rule"
   ]
  },
  {
   "cell_type": "markdown",
   "metadata": {},
   "source": [
    "If Ax=b, and A is of dimension (m,n) that is A is not a square matrix.\n",
    "\n",
    "If m < n (A is fat matrix) the system is called under-determined system\n",
    "\n",
    "If m > n (A is thin/tall matrix) the system is called over-determined system.\n",
    "\n",
    "Given Ax=b , if A is invertible (inverse exists) then the solution is,\n",
    "\n",
    "x=(A-1)b  # a inverse\n",
    "\n",
    "Only problem is we need to find inverse of a non-square matrix which can be found using generalized inverse\n",
    "\n",
    "x=(A-G)b  # a inverse \n",
    "\n",
    "Where A-G represents generalized inverse (also called pseudo inverse)"
   ]
  },
  {
   "cell_type": "code",
   "execution_count": 303,
   "metadata": {},
   "outputs": [
    {
     "name": "stdout",
     "output_type": "stream",
     "text": [
      "Generalized Inverse : [[ 0.75 -0.25 -0.25  0.25]\n",
      " [-0.25  0.75 -0.25  0.25]\n",
      " [-0.25 -0.25  0.75  0.25]]\n",
      "[[1.]\n",
      " [2.]\n",
      " [3.]]\n"
     ]
    }
   ],
   "source": [
    "matrix_a = np.array([[1, 0, 0],\n",
    "              [0, 1, 0],\n",
    "              [0, 0, 1],\n",
    "              [1, 1, 1]])\n",
    "matrix_b = np.array([[1],[2],[3],[6]])\n",
    "matrix_inv_a = np.linalg.pinv(matrix_a)\n",
    "print(\"Generalized Inverse :\", np.linalg.pinv(matrix_a))\n",
    "\n",
    "print(np.matmul(matrix_inv_a,matrix_b))\n",
    "\n",
    "#print(np.linalg.solve(matrix_a,matrix_b))  #wont work beacuse solve is for square matrix"
   ]
  },
  {
   "cell_type": "markdown",
   "metadata": {},
   "source": [
    "## Eigen Values and Eigen Vectors\n",
    "\n",
    "An eigenvector is a vector in a system that does not change its direction under associated linear transformation.\n",
    "\n",
    "For example, consider a globe which can be rotated about an axis (in case of Earth the poles are the axis about which it is rotated). When the globe is rotated all points on the surface get changed (linearly transformed) except the point that represent the poles, i.e. the direction of axis is not changing. This is called the eigen vector of the globe.\n",
    "\n",
    "During the linear transformation, the eigen vectors may get scaled. The factor by which the vector gets scaled is called as the eigen value of the vector. If an eigen value associated with an eigen vector is smaller than 1 then all vectors in the direction of this eigen vector will shrink when transformed. If the eigen value is 1 then no change in size and if eigen value is greater than 1 then vectors expand.\n",
    "\n",
    "Eigen values and vectors are used in many computations for applications such as stability analysis and physics of rotating bodies. Google’s Page rank algorithm also uses eigen vectors. Here these eigen vectors represent page rank values.\n",
    "\n",
    "#### When A is symmetric, the Eigen vectors corresponding to different Eigen values are orthogonal.\n",
    "#### Sum of Eigen values of A is trace of matrix A where trace of A is sum of diagonal values of A"
   ]
  },
  {
   "cell_type": "code",
   "execution_count": 334,
   "metadata": {},
   "outputs": [
    {
     "name": "stdout",
     "output_type": "stream",
     "text": [
      "(array([ 1., -2.]), array([[1., 0.],\n",
      "       [0., 1.]]))\n",
      "Eigen Values : [ 1. -2.]\n",
      "Eigen Vectors : [[1. 0.]\n",
      " [0. 1.]]\n"
     ]
    }
   ],
   "source": [
    "A = np.array([[1,0],[0,-2]])\n",
    "#print(A)\n",
    "results = np.linalg.eig(A)\n",
    "print(results)\n",
    "'''Eigen Values and Eigen Vectors are present as a tuple in results'''\n",
    "'''Separating Eigen Values and Eigen Vectors'''\n",
    "eigvals, eigvecs = np.linalg.eig(A)\n",
    "print(\"Eigen Values :\",eigvals)\n",
    "print(\"Eigen Vectors :\",eigvecs)"
   ]
  },
  {
   "cell_type": "markdown",
   "metadata": {},
   "source": [
    "#### Exercise"
   ]
  },
  {
   "cell_type": "code",
   "execution_count": 332,
   "metadata": {},
   "outputs": [
    {
     "name": "stdout",
     "output_type": "stream",
     "text": [
      "Rank of the matrix is : 2\n",
      "Eigen values : [2. 1.]\n",
      "Eigen vector : [[1. 0.]\n",
      " [0. 1.]]\n"
     ]
    }
   ],
   "source": [
    "a = np.array([[2,0],[0,1]])\n",
    "print(\"Rank of the matrix is :\",np.linalg.matrix_rank(a))\n",
    "results = np.linalg.eig(a)\n",
    "print(\"Eigen values :\",results[0])\n",
    "print(\"Eigen vector :\",results[1])"
   ]
  },
  {
   "cell_type": "markdown",
   "metadata": {},
   "source": [
    "#### Diagonal Form"
   ]
  },
  {
   "cell_type": "code",
   "execution_count": 330,
   "metadata": {},
   "outputs": [
    {
     "name": "stdout",
     "output_type": "stream",
     "text": [
      "Array: [[1 4 7]\n",
      " [2 5 8]\n",
      " [3 6 9]]\n",
      "eigenvalues : [16. -1. -0.]\n",
      "eigenvectors : [[-0.46454727 -0.88290596  0.40824829]\n",
      " [-0.57079553 -0.23952042 -0.81649658]\n",
      " [-0.67704379  0.40386512  0.40824829]]\n",
      "diagonal form [[16. -0.  0.]\n",
      " [ 0. -1. -0.]\n",
      " [ 0. -0. -0.]]\n"
     ]
    }
   ],
   "source": [
    "array = np.array([[1,4,7],[2,5,8],[3,6,9]])\n",
    "print(\"Array:\",array)\n",
    "eigenvalues, eigenvectors = np.linalg.eig(array)\n",
    "print (\"eigenvalues :\",np.round(eigenvalues))\n",
    "print (\"eigenvectors :\",eigenvectors)\n",
    "inverseEigenVectors = np.linalg.inv(eigenvectors) \n",
    "diagonal= np.round(np.dot(np.dot(inverseEigenVectors,array),eigenvectors))\n",
    "print(\"diagonal form\",diagonal)"
   ]
  },
  {
   "cell_type": "markdown",
   "metadata": {},
   "source": [
    "#### Positive Definite Matrix\n",
    "##### Positive Definite: Matrix of dimension (n,n)  is said to be Positive Definite if all Eigen values are positive\n",
    "##### Positive Semi-Definite: If all Eigen values of matrix A are non-negative then matrix A is said to Positive-Semi-Definite"
   ]
  },
  {
   "cell_type": "code",
   "execution_count": 335,
   "metadata": {},
   "outputs": [
    {
     "name": "stdout",
     "output_type": "stream",
     "text": [
      "eigenvalues [ 1.61168440e+01 -1.11684397e+00 -1.57673427e-16]\n",
      "eigenvalues [295.26997368   0.5603803   24.82036002]\n"
     ]
    }
   ],
   "source": [
    "array = np.array([[1,4,7],[2,5,8],[3,6,9]])\n",
    "eigenvalues, eigenvectors = np.linalg.eig(array)\n",
    "print(\"eigenvalues\",eigenvalues)\n",
    "array_2 = np.array([[9.847914,10.38333,49.88812],[10.38333,40.600000,62.66000],[49.888118,62.66000,270.20280]])\n",
    "eigenvalues, eigenvectors = np.linalg.eig(array_2)\n",
    "print(\"eigenvalues\",eigenvalues)"
   ]
  },
  {
   "cell_type": "markdown",
   "metadata": {},
   "source": [
    "## Introduction- Matrix Decomposition\n",
    "A given matrix can be factorized into matrices for various reasons such as simplifying computations e.g. solving system of linear equations, finding new basis (vectors spanning a subspace) etc.\n",
    "\n",
    "There are different matrix decomposition techniques based on purpose, structure of matrix etc. that can be used to factorize a given matrix. Some of these matrix decomposition techniques are:\n",
    "\n",
    "LU decomposition\n",
    "\n",
    "QR decomposition\n",
    "\n",
    "Cholesky decomposition\n",
    "\n",
    "Spectral decomposition\n",
    "\n",
    "Singular Value Decomposition (SVD)"
   ]
  },
  {
   "cell_type": "markdown",
   "metadata": {},
   "source": [
    "##### LU Decomposition"
   ]
  },
  {
   "cell_type": "code",
   "execution_count": 345,
   "metadata": {},
   "outputs": [
    {
     "name": "stdout",
     "output_type": "stream",
     "text": [
      "[[0. 1. 0.]\n",
      " [0. 0. 1.]\n",
      " [1. 0. 0.]]\n",
      "[[1.         0.         0.        ]\n",
      " [0.1        1.         0.        ]\n",
      " [0.4        0.66666667 1.        ]]\n",
      "[[10.  11.   9. ]\n",
      " [ 0.   0.9  2.1]\n",
      " [ 0.   0.   1. ]]\n"
     ]
    },
    {
     "name": "stderr",
     "output_type": "stream",
     "text": [
      "C:\\Users\\malla\\anaconda3\\lib\\site-packages\\ipykernel_launcher.py:4: DeprecationWarning: scipy.array is deprecated and will be removed in SciPy 2.0.0, use numpy.array instead\n",
      "  after removing the cwd from sys.path.\n"
     ]
    }
   ],
   "source": [
    "import scipy.linalg\n",
    "A = scipy.array([[1, 2, 3],\n",
    "[4, 5, 6],\n",
    "[10, 11, 9]])\n",
    "P, L, U = scipy.linalg.lu(A)\n",
    "print(P)\n",
    "print(L)\n",
    "print(U)"
   ]
  },
  {
   "cell_type": "markdown",
   "metadata": {},
   "source": [
    "#### QR Decomposition\n",
    "\n",
    "QR decomposition is predominantly used for solving linear least square problem which is one of the widely used technique in scientific computation including fitting function for given data, in a numerically stable fashion, QR decomposition can also be used to find Eigen values and Eigen vectors and solving system of linear equations which are not square."
   ]
  },
  {
   "cell_type": "code",
   "execution_count": 346,
   "metadata": {},
   "outputs": [
    {
     "name": "stdout",
     "output_type": "stream",
     "text": [
      "A [[ 1  3 -1]\n",
      " [ 2  5  4]\n",
      " [ 2  3 -1]]\n",
      "B [ 4 19  7]\n",
      "QR Decomposition [3. 1. 2.]\n"
     ]
    }
   ],
   "source": [
    "matrix_1 = np.array([[1,3,-1],[2,5,4],[2,3,-1]])\n",
    "print(\"A\",matrix_1)\n",
    "matrix_2 = np.array([4, 19, 7])\n",
    "print(\"B\",matrix_2)\n",
    "q, r = np.linalg.qr(matrix_1)\n",
    "p = np.dot(q.T, matrix_2)\n",
    "print(\"QR Decomposition\",np.dot(np.linalg.inv(r), p))"
   ]
  },
  {
   "cell_type": "markdown",
   "metadata": {},
   "source": [
    "#### Cholesky Decomposition\n",
    "Diagonal values of L are positive. This is applicable for positive definite matrices."
   ]
  },
  {
   "cell_type": "code",
   "execution_count": 350,
   "metadata": {},
   "outputs": [
    {
     "name": "stdout",
     "output_type": "stream",
     "text": [
      "H : [[ 3.13813862  3.30875537 15.89735956]\n",
      " [ 0.          5.44537767  1.84735143]\n",
      " [ 0.          0.          3.75020688]]\n",
      "Cholesky Decomposition : [[1.         0.1        0.4       ]\n",
      " [0.1        1.01       0.70666667]\n",
      " [0.4        0.70666667 1.60444444]]\n"
     ]
    }
   ],
   "source": [
    "matrix_1 = np.array([[9.847914,10.38333,49.88812],[10.383333,40.60000,62.66000],[49.888118,62.66000,270.20280]])\n",
    "H = np.linalg.cholesky(matrix_1)\n",
    "print(\"H :\",H.transpose())\n",
    "print(\"Cholesky Decomposition :\",np.dot(L, L.T.conj())) # verify that L * L.H = A"
   ]
  },
  {
   "cell_type": "markdown",
   "metadata": {},
   "source": [
    "#### Singular Value Decomposition\n",
    "\n",
    "Matrix A of dimension (m,n) can be decomposed into three matrices as\n",
    "\n",
    "\n",
    "\n",
    "Where D is a diagonal matrix having non-negative values, U and V are orthogonal matrices.\n",
    "\n",
    "Diagonal values of D are called Singular Values of matrix A. One of the remarkable property of SVD decomposition is that matrix A can be Singular.\n",
    "\n",
    "Some of the important applications of SVD are\n",
    "\n",
    "Inverting non-square or singular matrix (called Generalized inverse or Pseudo-inverse) \n",
    "\n",
    "Low Rank approximation\n",
    "\n",
    "Regression Analysis\n",
    "\n",
    "SVD is closely related to Principal Component Analysis (PCA) which is widely used in dimensionally reduction.\n",
    "\n",
    "Python command svd can be used to achieve singular value decomposition of a matrix."
   ]
  },
  {
   "cell_type": "code",
   "execution_count": 358,
   "metadata": {},
   "outputs": [
    {
     "name": "stdout",
     "output_type": "stream",
     "text": [
      "A: [[ 1  3 -1]\n",
      " [ 2  5  4]\n",
      " [ 2  3 -1]]\n",
      "U: [[-0.34272777  0.57075334 -0.74617578]\n",
      " [-0.85357667 -0.5209279  -0.00640185]\n",
      " [-0.39235767  0.63472415  0.6657182 ]]\n",
      "D: [7.55742687 3.53268255 0.63675206]\n",
      "V: [[-0.37507428 -0.85652694 -0.35451501]\n",
      " [ 0.22598856  0.28640925 -0.93107407]\n",
      " [ 0.89902639 -0.42933827  0.08614054]]\n"
     ]
    }
   ],
   "source": [
    "array = np.array([[1,3,-1],[2,5,4],[2,3,-1]])\n",
    "print(\"A:\",array)\n",
    "u, d, v = np.linalg.svd(array)\n",
    "print(\"U:\",u)\n",
    "print(\"D:\",d)\n",
    "print(\"V:\",v)"
   ]
  },
  {
   "cell_type": "code",
   "execution_count": 359,
   "metadata": {},
   "outputs": [
    {
     "name": "stdout",
     "output_type": "stream",
     "text": [
      "A: [[ 1  3 -1]\n",
      " [ 2  5  4]]\n",
      "U: [[-0.32065727 -0.94719529]\n",
      " [-0.94719529  0.32065727]]\n",
      "D: [7.02857984 2.56886462]\n",
      "V: [[-0.31514871 -0.81068272 -0.49343167]\n",
      " [-0.11907235 -0.48204157  0.86801941]\n",
      " [ 0.94154292 -0.33230927 -0.05538488]]\n",
      "Values : [ 6.59906544 49.40093456]\n",
      "Vectors : [[-0.94719529 -0.32065727]\n",
      " [ 0.32065727 -0.94719529]]\n"
     ]
    }
   ],
   "source": [
    "array = np.array([[1,3,-1],[2,5,4]])\n",
    "print(\"A:\",array)\n",
    "u, d, v = np.linalg.svd(array)\n",
    "print(\"U:\",u)\n",
    "print(\"D:\",d)\n",
    "print(\"V:\",v)\n",
    "\n",
    "eigvalues,eigvectors = np.linalg.eig(np.dot(array,array.T))\n",
    "print(\"Values :\",eigvalues)\n",
    "print(\"Vectors :\",eigvectors)"
   ]
  }
 ],
 "metadata": {
  "kernelspec": {
   "display_name": "Python 3",
   "language": "python",
   "name": "python3"
  },
  "language_info": {
   "codemirror_mode": {
    "name": "ipython",
    "version": 3
   },
   "file_extension": ".py",
   "mimetype": "text/x-python",
   "name": "python",
   "nbconvert_exporter": "python",
   "pygments_lexer": "ipython3",
   "version": "3.7.6"
  }
 },
 "nbformat": 4,
 "nbformat_minor": 4
}
