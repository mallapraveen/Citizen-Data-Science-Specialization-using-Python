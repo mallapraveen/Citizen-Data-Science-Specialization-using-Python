{
 "cells": [
  {
   "cell_type": "code",
   "execution_count": 278,
   "metadata": {},
   "outputs": [],
   "source": [
    "import pandas as pd\n",
    "import numpy as np"
   ]
  },
  {
   "cell_type": "code",
   "execution_count": 277,
   "metadata": {},
   "outputs": [
    {
     "name": "stdout",
     "output_type": "stream",
     "text": [
      "    C1  C2    C3\n",
      "R1   1   2   NaN\n",
      "R2   5  10  20.0\n",
      "   C1 C2\n",
      "R1  1  2\n",
      "R2  3  4\n",
      "    a   b\n",
      "p  52  32\n",
      "q  45  85\n"
     ]
    }
   ],
   "source": [
    "import pandas as pd\n",
    "# 1. Using list of dictionary\n",
    "lst = [{\"C1\": 1, \"C2\": 2},\n",
    "        {\"C1\": 5, \"C2\": 10, \"C3\": 20}]\n",
    "# Observe NaN       \n",
    "print(pd.DataFrame(lst, index = [\"R1\", \"R2\"]))\n",
    "# 2. Using dictionary\n",
    "dc = {\"C1\": [\"1\", \"3\"],\n",
    "        \"C2\": [\"2\",\"4\"]}\n",
    "print( pd.DataFrame(dc, index = [\"R1\", \"R2\"]) )\n",
    "# 3. Using list\n",
    "lst = [[52,32],[45,85]]\n",
    "print(pd.DataFrame(lst, index = list('pq'), columns = list('ab')))"
   ]
  },
  {
   "cell_type": "code",
   "execution_count": 279,
   "metadata": {},
   "outputs": [
    {
     "name": "stdout",
     "output_type": "stream",
     "text": [
      "      A     B   C                   D\n",
      "0  10.0  text   2  3.000000+9.000000j\n",
      "1  20.0  text  60  3.000000+9.000000j\n",
      "2  30.0  text  30  3.000000+9.000000j\n",
      "A       float64\n",
      "B        object\n",
      "C         int64\n",
      "D    complex128\n",
      "dtype: object\n"
     ]
    }
   ],
   "source": [
    "df = pd.DataFrame({'A': [10., 20.,30],\n",
    "                    'B': \"text\",\n",
    "                    'C': [2,60,30],\n",
    "                    'D': 3+9j})\n",
    "print(df)\n",
    "#       A     B   C       D\n",
    "# 0  10.0  text   2  (3+9j)\n",
    "# 1  20.0  text  60  (3+9j)\n",
    "print(df.dtypes)\n",
    "# A       float64\n",
    "# B        object\n",
    "# C         int64\n",
    "# D    complex128\n",
    "# dtype: object             "
   ]
  },
  {
   "cell_type": "code",
   "execution_count": 280,
   "metadata": {},
   "outputs": [
    {
     "name": "stdout",
     "output_type": "stream",
     "text": [
      "<class 'pandas.core.frame.DataFrame'>\n",
      "RangeIndex: 3 entries, 0 to 2\n",
      "Data columns (total 4 columns):\n",
      " #   Column  Non-Null Count  Dtype     \n",
      "---  ------  --------------  -----     \n",
      " 0   A       3 non-null      float64   \n",
      " 1   B       3 non-null      object    \n",
      " 2   C       3 non-null      int64     \n",
      " 3   D       3 non-null      complex128\n",
      "dtypes: complex128(1), float64(1), int64(1), object(1)\n",
      "memory usage: 248.0+ bytes\n"
     ]
    }
   ],
   "source": [
    "df.info()"
   ]
  },
  {
   "cell_type": "code",
   "execution_count": 281,
   "metadata": {},
   "outputs": [
    {
     "name": "stdout",
     "output_type": "stream",
     "text": [
      "RangeIndex(start=0, stop=3, step=1)\n",
      "Index(['A', 'B', 'C', 'D'], dtype='object')\n",
      "[[10.0 'text' 2 (3+9j)]\n",
      " [20.0 'text' 60 (3+9j)]\n",
      " [30.0 'text' 30 (3+9j)]]\n"
     ]
    }
   ],
   "source": [
    "print(df.index)   #index of rows\n",
    "# RangeIndex(start=0, stop=2, step=1)\n",
    "print(df.columns)   # index of columns\n",
    "# Index(['A', 'B', 'C', 'D'], dtype='object')\n",
    "print(df.values)    # display values of df\n",
    "# [[10.0 'text' 2 (3+9j)]\n",
    "#  [20.0 'text' 60 (3+9j)]]"
   ]
  },
  {
   "cell_type": "markdown",
   "metadata": {},
   "source": [
    "### Exercise"
   ]
  },
  {
   "cell_type": "code",
   "execution_count": 282,
   "metadata": {},
   "outputs": [],
   "source": [
    "import pandas as pd\n",
    "df = pd.DataFrame([[0.23,'f1'],[5.36,'f2']],\n",
    "                  index = list('pq'),\n",
    "                    columns = list('ab'))    "
   ]
  },
  {
   "cell_type": "code",
   "execution_count": 286,
   "metadata": {},
   "outputs": [
    {
     "name": "stdout",
     "output_type": "stream",
     "text": [
      "                    A   b         c\n",
      "p  0.230000+0.000000j  f1  0.957906\n",
      "q  5.360000+0.000000j  f2  0.290187\n"
     ]
    },
    {
     "data": {
      "text/html": [
       "<div>\n",
       "<style scoped>\n",
       "    .dataframe tbody tr th:only-of-type {\n",
       "        vertical-align: middle;\n",
       "    }\n",
       "\n",
       "    .dataframe tbody tr th {\n",
       "        vertical-align: top;\n",
       "    }\n",
       "\n",
       "    .dataframe thead th {\n",
       "        text-align: right;\n",
       "    }\n",
       "</style>\n",
       "<table border=\"1\" class=\"dataframe\">\n",
       "  <thead>\n",
       "    <tr style=\"text-align: right;\">\n",
       "      <th></th>\n",
       "      <th>A</th>\n",
       "      <th>b</th>\n",
       "      <th>c</th>\n",
       "    </tr>\n",
       "  </thead>\n",
       "  <tbody>\n",
       "    <tr>\n",
       "      <th>q</th>\n",
       "      <td>5.360000+0.000000j</td>\n",
       "      <td>f2</td>\n",
       "      <td>0.290187</td>\n",
       "    </tr>\n",
       "  </tbody>\n",
       "</table>\n",
       "</div>"
      ],
      "text/plain": [
       "                    A   b         c\n",
       "q  5.360000+0.000000j  f2  0.290187"
      ]
     },
     "execution_count": 286,
     "metadata": {},
     "output_type": "execute_result"
    }
   ],
   "source": [
    "#1\n",
    "df = df.rename(columns={'a':'A'})\n",
    "#2\n",
    "df['c'] = np.random.rand(2)\n",
    "#3\n",
    "df['A'] = df['A'].astype('complex')\n",
    "#4\n",
    "lst = ['f30','f50','f2','f0'] \n",
    "print(df)\n",
    "df[df.isin(lst).any(axis=1)]"
   ]
  },
  {
   "cell_type": "code",
   "execution_count": 34,
   "metadata": {},
   "outputs": [
    {
     "name": "stdout",
     "output_type": "stream",
     "text": [
      "  Unnamed: 0   C    D\n",
      "0          A  11  202\n",
      "1          B  33   44\n"
     ]
    }
   ],
   "source": [
    "import pandas as pd\n",
    "df = pd.DataFrame([[11, 202],\n",
    "                    [33, 44]],\n",
    "                    index = list('AB'),\n",
    "                    columns = list('CD'))\n",
    "''' Writing to excel file '''\n",
    "df.to_excel('test_file.xlsx', sheet_name = 'Sheet1')\n",
    "''' Reading from excel file '''\n",
    "print(pd.read_excel('test_file.xlsx', 'Sheet1')) "
   ]
  },
  {
   "cell_type": "code",
   "execution_count": 287,
   "metadata": {},
   "outputs": [
    {
     "data": {
      "text/html": [
       "<div>\n",
       "<style scoped>\n",
       "    .dataframe tbody tr th:only-of-type {\n",
       "        vertical-align: middle;\n",
       "    }\n",
       "\n",
       "    .dataframe tbody tr th {\n",
       "        vertical-align: top;\n",
       "    }\n",
       "\n",
       "    .dataframe thead th {\n",
       "        text-align: right;\n",
       "    }\n",
       "</style>\n",
       "<table border=\"1\" class=\"dataframe\">\n",
       "  <thead>\n",
       "    <tr style=\"text-align: right;\">\n",
       "      <th></th>\n",
       "      <th>26/08/17, 12:28:58 PM: ?Messages to this group are now secured with end-to-end encryption.</th>\n",
       "    </tr>\n",
       "  </thead>\n",
       "  <tbody>\n",
       "    <tr>\n",
       "      <th>0</th>\n",
       "      <td>26/08/17, 12:36:23 PM: Friend1: *Richard M. St...</td>\n",
       "    </tr>\n",
       "    <tr>\n",
       "      <th>1</th>\n",
       "      <td>*discovered the malfunction the hard way.*</td>\n",
       "    </tr>\n",
       "    <tr>\n",
       "      <th>2</th>\n",
       "      <td>#Incredible</td>\n",
       "    </tr>\n",
       "    <tr>\n",
       "      <th>3</th>\n",
       "      <td>26/08/17, 12:36:37 PM: ?+91 12345 45555: &lt;?ima...</td>\n",
       "    </tr>\n",
       "    <tr>\n",
       "      <th>4</th>\n",
       "      <td>26/08/17, 12:36:54 PM: +91 12345 45555: &lt;?imag...</td>\n",
       "    </tr>\n",
       "  </tbody>\n",
       "</table>\n",
       "</div>"
      ],
      "text/plain": [
       "  26/08/17, 12:28:58 PM: ?Messages to this group are now secured with end-to-end encryption.\n",
       "0  26/08/17, 12:36:23 PM: Friend1: *Richard M. St...                                        \n",
       "1         *discovered the malfunction the hard way.*                                        \n",
       "2                                        #Incredible                                        \n",
       "3  26/08/17, 12:36:37 PM: ?+91 12345 45555: <?ima...                                        \n",
       "4  26/08/17, 12:36:54 PM: +91 12345 45555: <?imag...                                        "
      ]
     },
     "execution_count": 287,
     "metadata": {},
     "output_type": "execute_result"
    }
   ],
   "source": [
    "df1= pd.read_table(\"chat.txt\")\n",
    "df2 = pd.read_csv(\"psps_data.csv\")\n",
    "df1.head()"
   ]
  },
  {
   "cell_type": "markdown",
   "metadata": {},
   "source": [
    "### Exercise"
   ]
  },
  {
   "cell_type": "code",
   "execution_count": 288,
   "metadata": {},
   "outputs": [],
   "source": [
    "df = pd.DataFrame([[18,10,5,11,-2],\n",
    "                    [2,-2,9,-11,3],\n",
    "                    [-4,6,-19,2,1],\n",
    "                    [3,-14,1,-2,8],\n",
    "                    [-2,2,4,6,13]],\n",
    "                  index = list('pqrst'),\n",
    "                    columns = list('abcde'))        "
   ]
  },
  {
   "cell_type": "code",
   "execution_count": 54,
   "metadata": {},
   "outputs": [],
   "source": [
    "#1\n",
    "new_df = df[df.sum(axis=1)%2==0]\n",
    "new_df.to_excel(\"file_df.xlsx\",sheet_name=\"Sheet1\")"
   ]
  },
  {
   "cell_type": "code",
   "execution_count": 289,
   "metadata": {},
   "outputs": [
    {
     "data": {
      "text/html": [
       "<div>\n",
       "<style scoped>\n",
       "    .dataframe tbody tr th:only-of-type {\n",
       "        vertical-align: middle;\n",
       "    }\n",
       "\n",
       "    .dataframe tbody tr th {\n",
       "        vertical-align: top;\n",
       "    }\n",
       "\n",
       "    .dataframe thead th {\n",
       "        text-align: right;\n",
       "    }\n",
       "</style>\n",
       "<table border=\"1\" class=\"dataframe\">\n",
       "  <thead>\n",
       "    <tr style=\"text-align: right;\">\n",
       "      <th></th>\n",
       "      <th>a</th>\n",
       "      <th>b</th>\n",
       "      <th>c</th>\n",
       "      <th>d</th>\n",
       "      <th>e</th>\n",
       "      <th>m</th>\n",
       "    </tr>\n",
       "  </thead>\n",
       "  <tbody>\n",
       "    <tr>\n",
       "      <th>p</th>\n",
       "      <td>18</td>\n",
       "      <td>10</td>\n",
       "      <td>5</td>\n",
       "      <td>11</td>\n",
       "      <td>-2</td>\n",
       "      <td>-19800</td>\n",
       "    </tr>\n",
       "    <tr>\n",
       "      <th>r</th>\n",
       "      <td>-4</td>\n",
       "      <td>6</td>\n",
       "      <td>-19</td>\n",
       "      <td>2</td>\n",
       "      <td>1</td>\n",
       "      <td>912</td>\n",
       "    </tr>\n",
       "    <tr>\n",
       "      <th>s</th>\n",
       "      <td>3</td>\n",
       "      <td>-14</td>\n",
       "      <td>1</td>\n",
       "      <td>-2</td>\n",
       "      <td>8</td>\n",
       "      <td>672</td>\n",
       "    </tr>\n",
       "  </tbody>\n",
       "</table>\n",
       "</div>"
      ],
      "text/plain": [
       "    a   b   c   d  e      m\n",
       "p  18  10   5  11 -2 -19800\n",
       "r  -4   6 -19   2  1    912\n",
       "s   3 -14   1  -2  8    672"
      ]
     },
     "execution_count": 289,
     "metadata": {},
     "output_type": "execute_result"
    }
   ],
   "source": [
    "#2\n",
    "df_temp = new_df.copy(True)\n",
    "#df_temp['m'] = df_temp.product(1)\n",
    "df_temp['m'] = df_temp.apply(np.product,axis=1)\n",
    "df_temp"
   ]
  },
  {
   "cell_type": "markdown",
   "metadata": {},
   "source": [
    "### Selection Methods"
   ]
  },
  {
   "cell_type": "code",
   "execution_count": 292,
   "metadata": {},
   "outputs": [
    {
     "name": "stdout",
     "output_type": "stream",
     "text": [
      "    D   E\n",
      "A  15  12\n",
      "B  33  54\n",
      "C  10  32\n",
      "    D   E\n",
      "A  15  12\n",
      "C  10  32\n",
      "A    12\n",
      "B    54\n",
      "C    32\n",
      "Name: E, dtype: int64\n",
      "33\n"
     ]
    }
   ],
   "source": [
    "import pandas as pd\n",
    "df = pd.DataFrame([[15, 12],\n",
    "                    [33, 54],\n",
    "                    [10, 32]], \n",
    "                    index = list('ABC'),\n",
    "                    columns = list('DE'))\n",
    "print(df)\n",
    "#     D   E\n",
    "# A  15  12\n",
    "# B  33  54\n",
    "# C  10  32\n",
    "print(df.loc[['A','C'],:])\n",
    "#     D   E\n",
    "# A  15  12\n",
    "# C  10  32\n",
    "print(df.loc[:,'E'])\n",
    "# A    12\n",
    "# B    54\n",
    "# C    32\n",
    "# Name: E, dtype: int64\n",
    "print(df.loc['B', 'D'])\n",
    "# 33             "
   ]
  },
  {
   "cell_type": "code",
   "execution_count": 293,
   "metadata": {},
   "outputs": [
    {
     "name": "stdout",
     "output_type": "stream",
     "text": [
      "    0   1\n",
      "0  15  12\n",
      "1  33  54\n",
      "2  10  32\n",
      "    0   1\n",
      "0  15  12\n",
      "1  33  54\n",
      "    0\n",
      "0  15\n",
      "1  33\n",
      "2  10\n",
      "    0   1\n",
      "0  15  12\n",
      "1  33  54\n",
      "2  10  32\n"
     ]
    }
   ],
   "source": [
    "import pandas as pd\n",
    "df = pd.DataFrame([[15, 12],\n",
    "                    [33, 54],\n",
    "                    [10, 32]])\n",
    "print(df)\n",
    "#     0   1\n",
    "# 0  15  12\n",
    "# 1  33  54\n",
    "# 2  10  32\n",
    "print(df.iloc[0:2,:]) \n",
    "#     0   1\n",
    "# 0  15  12\n",
    "# 1  33  54\n",
    "print(df.iloc[:,0:1])\n",
    "#     0\n",
    "# 0  15\n",
    "# 1  33\n",
    "# 2  10\n",
    "print(df.iloc[:,:])\n",
    "#     0   1\n",
    "# 0  15  12\n",
    "# 1  33  54\n",
    "# 2  10  32             "
   ]
  },
  {
   "cell_type": "code",
   "execution_count": 294,
   "metadata": {},
   "outputs": [
    {
     "name": "stdout",
     "output_type": "stream",
     "text": [
      "       col1  col2\n",
      "one      15    12\n",
      "two      33    54\n",
      "three    10    32\n",
      "       col1  col2\n",
      "one      15    12\n",
      "three    10    32\n",
      "       col1  col2\n",
      "one      15    12\n",
      "two      33    54\n",
      "three    10    32\n"
     ]
    }
   ],
   "source": [
    "import pandas as pd\n",
    "df = pd.DataFrame([[15, 12],\n",
    "                    [33, 54],\n",
    "                    [10, 32]], \n",
    "                    index = ['one','two','three'],\n",
    "                    columns = ['col1', 'col2'])\n",
    "print(df)\n",
    "#        col1  col2\n",
    "# one      15    12\n",
    "# two      33    54\n",
    "# three    10    32\n",
    "print(df.filter(regex = 'e$', axis = 0))      # row name ending with 'e'\n",
    "#        col1  col2\n",
    "# one      15    12\n",
    "# three    10    32\n",
    "print(df.filter(regex = '^c', axis = 1))      # column name starting with 'c'\n",
    "#        col1  col2\n",
    "# one      15    12\n",
    "# two      33    54\n",
    "# three    10    32               "
   ]
  },
  {
   "cell_type": "code",
   "execution_count": 295,
   "metadata": {},
   "outputs": [
    {
     "name": "stdout",
     "output_type": "stream",
     "text": [
      "      0     1\n",
      "0  15.0   NaN\n",
      "1  33.0  54.0\n",
      "2   NaN  32.0\n"
     ]
    }
   ],
   "source": [
    "import pandas as pd\n",
    "df = pd.DataFrame([[15, 12],\n",
    "                    [33, 54],\n",
    "                    [10, 32]])\n",
    "print(df[df >= 15])\n",
    "#       0     1\n",
    "# 0  15.0   NaN\n",
    "# 1  33.0  54.0\n",
    "# 2   NaN  32.0             "
   ]
  },
  {
   "cell_type": "code",
   "execution_count": 349,
   "metadata": {},
   "outputs": [
    {
     "name": "stdout",
     "output_type": "stream",
     "text": [
      "  26/08/17, 12:28:58 PM: ?Messages to this group are now secured with end-to-end encryption.\n",
      "0  26/08/17, 12:36:23 PM: Friend1: *Richard M. St...                                        \n",
      "1  26/08/17, 12:36:37 PM: ?+91 12345 45555: <?ima...                                        \n",
      "2  26/08/17, 12:36:54 PM: +91 12345 45555: <?imag...                                        \n",
      "3       26/08/17, 12:37:08 PM: Friend3: ????????????                                        \n",
      "4  26/08/17, 12:37:33 PM: +91 12345 45555: <?GIF ...                                        \n"
     ]
    }
   ],
   "source": [
    "df = pd.read_table(\"chat.txt\")\n",
    "''' Generating a boolean sequence which results True if it contains Timestamp '''\n",
    "bools = df.iloc[:,0].str.contains(r'^\\d+\\/\\d+\\/\\d+, \\d+:\\d+:\\d+ .M:')\n",
    "''' Concatenating '''\n",
    "i = len(df) - 1\n",
    "while (i >= 0):\n",
    "    if bools[i] == False:\n",
    "        df.iloc[i - 1, 0] += ' ' + df.iloc[i, 0]\n",
    "    i -= 1\n",
    "''' Dropping rows whose data is appended to source row '''\n",
    "df = df[bools]  \n",
    "''' Reformatting index '''  \n",
    "df = df.reset_index(drop = True)  \n",
    "print(df.head(5))"
   ]
  },
  {
   "cell_type": "markdown",
   "metadata": {},
   "source": [
    "### Data Cleaning"
   ]
  },
  {
   "cell_type": "code",
   "execution_count": 350,
   "metadata": {},
   "outputs": [],
   "source": [
    "df = df.iloc[:,0].str.split('M:', 1, expand=True)\n",
    "ts = df.iloc[:,0].copy()\n",
    "ts = ts.reset_index(drop = True)\n",
    "ts.columns = ['Timestamp']\n",
    "df = df.iloc[:,1].str.split(':', 1, expand=True)\n",
    "df = df.reset_index(drop = True)\n",
    "df.columns = ['Name','Convo']"
   ]
  },
  {
   "cell_type": "code",
   "execution_count": 351,
   "metadata": {},
   "outputs": [],
   "source": [
    "''' for unicode use -> r'12345\\xa045555' '''\n",
    "df['Name'][df['Name'].str.contains(r'12345 45555')] = ' Friend8'\n",
    "df['Name'][df['Name'].str.contains(r'98765 12222')] = ' Friend9'             "
   ]
  },
  {
   "cell_type": "code",
   "execution_count": 352,
   "metadata": {},
   "outputs": [],
   "source": [
    "df = df[df['Name'].str.contains(r'\\d{2} \\d{5} \\d{5}') == False]             "
   ]
  },
  {
   "cell_type": "code",
   "execution_count": 353,
   "metadata": {},
   "outputs": [],
   "source": [
    "df = df[df['Convo'].str.contains(r'image omitted') == False]\n",
    "df = df[df['Convo'].str.contains(r'video omitted') == False]\n",
    "df = df[df['Convo'].str.contains(r'GIF omitted') == False]\n",
    "df = df.reset_index(drop = True)               "
   ]
  },
  {
   "cell_type": "code",
   "execution_count": 355,
   "metadata": {},
   "outputs": [
    {
     "data": {
      "text/html": [
       "<div>\n",
       "<style scoped>\n",
       "    .dataframe tbody tr th:only-of-type {\n",
       "        vertical-align: middle;\n",
       "    }\n",
       "\n",
       "    .dataframe tbody tr th {\n",
       "        vertical-align: top;\n",
       "    }\n",
       "\n",
       "    .dataframe thead th {\n",
       "        text-align: right;\n",
       "    }\n",
       "</style>\n",
       "<table border=\"1\" class=\"dataframe\">\n",
       "  <thead>\n",
       "    <tr style=\"text-align: right;\">\n",
       "      <th></th>\n",
       "      <th>0</th>\n",
       "      <th>1</th>\n",
       "      <th>2</th>\n",
       "    </tr>\n",
       "  </thead>\n",
       "  <tbody>\n",
       "    <tr>\n",
       "      <th>0</th>\n",
       "      <td>15.0</td>\n",
       "      <td>12.0</td>\n",
       "      <td>NaN</td>\n",
       "    </tr>\n",
       "    <tr>\n",
       "      <th>1</th>\n",
       "      <td>33.0</td>\n",
       "      <td>NaN</td>\n",
       "      <td>54.0</td>\n",
       "    </tr>\n",
       "    <tr>\n",
       "      <th>2</th>\n",
       "      <td>10.0</td>\n",
       "      <td>32.0</td>\n",
       "      <td>96.0</td>\n",
       "    </tr>\n",
       "    <tr>\n",
       "      <th>3</th>\n",
       "      <td>NaN</td>\n",
       "      <td>NaN</td>\n",
       "      <td>NaN</td>\n",
       "    </tr>\n",
       "  </tbody>\n",
       "</table>\n",
       "</div>"
      ],
      "text/plain": [
       "      0     1     2\n",
       "0  15.0  12.0   NaN\n",
       "1  33.0   NaN  54.0\n",
       "2  10.0  32.0  96.0\n",
       "3   NaN   NaN   NaN"
      ]
     },
     "execution_count": 355,
     "metadata": {},
     "output_type": "execute_result"
    }
   ],
   "source": [
    "import numpy as np\n",
    "import pandas as pd\n",
    "df1 = pd.DataFrame([[15, 12, np.nan],\n",
    "                    [33, np.nan, 54],\n",
    "                    [10, 32, 96],\n",
    "                    [np.nan, np.nan, np.nan],\n",
    "                    [10, 32, 96]])\n",
    "df1.drop_duplicates()\n",
    "#       0     1     2\n",
    "# 0  15.0  12.0   NaN\n",
    "# 1  33.0   NaN  54.0\n",
    "# 2  10.0  32.0  96.0\n",
    "# 3   NaN   NaN   NaN             "
   ]
  },
  {
   "cell_type": "code",
   "execution_count": 357,
   "metadata": {},
   "outputs": [],
   "source": [
    "all_chat_list = []\n",
    "for i in range(len(df['Name'].drop_duplicates())):\n",
    "    temp = df['Convo'][df['Name'] == df['Name'].drop_duplicates().reset_index(drop = True)[i]]\n",
    "    temp = temp.reset_index(drop = True)\n",
    "    for j in range(1,len(temp)):\n",
    "        temp[0] += ' ' + temp[j]\n",
    "    all_chat_list.append(temp[0])\n",
    "    del temp "
   ]
  },
  {
   "cell_type": "code",
   "execution_count": 358,
   "metadata": {},
   "outputs": [
    {
     "name": "stdout",
     "output_type": "stream",
     "text": [
      "0     Friend1\n",
      "1     Friend3\n",
      "2     Friend8\n",
      "3     Friend2\n",
      "4     Friend9\n",
      "5     Friend5\n",
      "6     Friend6\n",
      "7     Friend7\n",
      "8     Friend4\n",
      "Name: Name, dtype: object\n",
      "             gn gn gn gm gm bye  \n"
     ]
    }
   ],
   "source": [
    "''' Unique Names in order of their appearance in group '''\n",
    "print(df['Name'].drop_duplicates().reset_index(drop = True))\n",
    "''' All chats of Friend7 '''\n",
    "print(all_chat_list[6])"
   ]
  },
  {
   "cell_type": "code",
   "execution_count": 373,
   "metadata": {},
   "outputs": [
    {
     "name": "stdout",
     "output_type": "stream",
     "text": [
      "[['abroad' '4']\n",
      " ['home' '3']\n",
      " ['the' '3']]\n",
      "[['company' '3']\n",
      " [\"it's\" '2']\n",
      " ['hmm' '1']]\n"
     ]
    },
    {
     "name": "stderr",
     "output_type": "stream",
     "text": [
      "C:\\Users\\malla\\anaconda3\\lib\\site-packages\\ipykernel_launcher.py:3: DeprecationWarning: `itemfreq` is deprecated!\n",
      "`itemfreq` is deprecated and will be removed in a future version. Use instead `np.unique(..., return_counts=True)`\n",
      "  This is separate from the ipykernel package so we can avoid doing imports until\n",
      "C:\\Users\\malla\\anaconda3\\lib\\site-packages\\ipykernel_launcher.py:8: DeprecationWarning: `itemfreq` is deprecated!\n",
      "`itemfreq` is deprecated and will be removed in a future version. Use instead `np.unique(..., return_counts=True)`\n",
      "  \n"
     ]
    }
   ],
   "source": [
    "from scipy.stats import itemfreq\n",
    "''' Friend1 Top 3 words '''\n",
    "fg = itemfreq(list(all_chat_list)[0].split(' '))\n",
    "fg = fg[fg[:,1].argsort()][::-1]\n",
    "print(fg[1:4])\n",
    "\n",
    "''' Friend3 Top 3 words '''\n",
    "fg = itemfreq(list(all_chat_list)[2].split(' '))\n",
    "fg = fg[fg[:,1].astype(float).argsort()][::-1]\n",
    "print(fg[1:4])"
   ]
  },
  {
   "cell_type": "markdown",
   "metadata": {},
   "source": [
    "##### Datetime"
   ]
  },
  {
   "cell_type": "code",
   "execution_count": 378,
   "metadata": {},
   "outputs": [
    {
     "name": "stdout",
     "output_type": "stream",
     "text": [
      "0    26/08/17, 12:36:23 P\n",
      "1    26/08/17, 12:36:37 P\n",
      "2    26/08/17, 12:36:54 P\n",
      "3    26/08/17, 12:37:08 P\n",
      "4    26/08/17, 12:37:33 P\n",
      "Name: 0, dtype: object\n",
      "0      False\n",
      "1      False\n",
      "2      False\n",
      "3      False\n",
      "4      False\n",
      "       ...  \n",
      "117    False\n",
      "118    False\n",
      "119    False\n",
      "120    False\n",
      "121    False\n",
      "Name: 0, Length: 122, dtype: bool\n",
      "122\n"
     ]
    }
   ],
   "source": [
    "print(ts.head(5))\n",
    "print(ts.isnull())\n",
    "print(ts.count())\n",
    "# In case of missing values we should fill with fillna() function or we need to drop it with dropna() function"
   ]
  },
  {
   "cell_type": "markdown",
   "metadata": {},
   "source": [
    "##### In case of missing values we should fill with fillna() function or we need to drop it with dropna() function"
   ]
  },
  {
   "cell_type": "code",
   "execution_count": 436,
   "metadata": {},
   "outputs": [
    {
     "name": "stdout",
     "output_type": "stream",
     "text": [
      "0      [26/08/17, 12]\n",
      "1      [26/08/17, 12]\n",
      "2      [26/08/17, 12]\n",
      "3      [26/08/17, 12]\n",
      "4      [26/08/17, 12]\n",
      "            ...      \n",
      "117    [28/09/17, 20]\n",
      "118    [28/09/17, 21]\n",
      "119    [28/09/17, 21]\n",
      "120    [28/09/17, 21]\n",
      "121    [28/09/17, 23]\n",
      "Name: 0, Length: 122, dtype: object\n"
     ]
    }
   ],
   "source": [
    "import datetime\n",
    "\n",
    "splitted_ts = ts.str.split(\", \")\n",
    "for i in range(len(ts)):\n",
    "    splitted_ts[i][1] += 'M'\n",
    "    temp = datetime.datetime.strptime(splitted_ts[i][1], '%I:%M:%S %p')\n",
    "    splitted_ts[i][1] = datetime.datetime.strftime(temp, '%H')\n",
    "\n",
    "print(splitted_ts)"
   ]
  },
  {
   "cell_type": "code",
   "execution_count": 451,
   "metadata": {},
   "outputs": [
    {
     "name": "stderr",
     "output_type": "stream",
     "text": [
      "C:\\Users\\malla\\anaconda3\\lib\\site-packages\\ipykernel_launcher.py:5: DeprecationWarning: `itemfreq` is deprecated!\n",
      "`itemfreq` is deprecated and will be removed in a future version. Use instead `np.unique(..., return_counts=True)`\n",
      "  \"\"\"\n"
     ]
    },
    {
     "data": {
      "text/plain": [
       "Text(0.5, 1.0, 'Frequent chat timings')"
      ]
     },
     "execution_count": 451,
     "metadata": {},
     "output_type": "execute_result"
    },
    {
     "data": {
      "image/png": "[encoded data removed]",
      "text/plain": [
       "<Figure size 432x288 with 1 Axes>"
      ]
     },
     "metadata": {
      "needs_background": "light"
     },
     "output_type": "display_data"
    }
   ],
   "source": [
    "from scipy.stats import itemfreq\n",
    "import matplotlib.pyplot as plt\n",
    "\n",
    "hrs = [ splitted_ts[i][1] for i in range(len(splitted_ts)) ]\n",
    "hrfreq = itemfreq(hrs)\n",
    "#occ = list(hrfreq[:,1].astype(float))\n",
    "occ = [float(hrfreq[i][1]) for i in range(len(hrfreq))]\n",
    "#hr = list(hrfreq[:,0].astype(float))\n",
    "hr = [float(hrfreq[i][0]) for i in range(len(hrfreq))]\n",
    "plt.plot(hr, occ)\n",
    "plt.grid('on')\n",
    "plt.xlabel('24 Hours')\n",
    "plt.ylabel('Frequency')\n",
    "plt.title('Frequent chat timings') "
   ]
  },
  {
   "cell_type": "markdown",
   "metadata": {},
   "source": [
    "### Exercise"
   ]
  },
  {
   "cell_type": "code",
   "execution_count": 680,
   "metadata": {},
   "outputs": [
    {
     "name": "stdout",
     "output_type": "stream",
     "text": [
      "LOCATION : 1\n",
      "LENGTH : 26\n",
      "LANES : 16\n",
      "CLEAR-G : 2\n",
      "T-OR-D : 6\n",
      "MATERIAL : 2\n",
      "SPAN : 16\n",
      "REL-L : 5\n",
      "TYPE : 2\n",
      "    IDENTIF RIVER LOCATION ERECTED   PURPOSE CLEAR-G   T-OR-D MATERIAL REL-L  \\\n",
      "0        E2     A       25  CRAFTS   HIGHWAY       N  THROUGH     WOOD     S   \n",
      "1        E3     A       39  CRAFTS  AQUEDUCT       N  THROUGH     WOOD     S   \n",
      "2        E5     A       29  CRAFTS   HIGHWAY       N  THROUGH     WOOD     S   \n",
      "3        E6     M       23  CRAFTS   HIGHWAY       N  THROUGH     WOOD     S   \n",
      "4        E7     A       27  CRAFTS   HIGHWAY       N  THROUGH     WOOD     S   \n",
      "..      ...   ...      ...     ...       ...     ...      ...      ...   ...   \n",
      "102     E84     A       24  MODERN   HIGHWAY       G  THROUGH    STEEL     F   \n",
      "103     E91     O       44  MODERN   HIGHWAY       G  THROUGH    STEEL     F   \n",
      "104     E90     M        7  MODERN   HIGHWAY       G  THROUGH    STEEL     F   \n",
      "105    E100     O       43  MODERN   HIGHWAY       G      NaN      NaN     F   \n",
      "106    E109     A       28  MODERN   HIGHWAY       G      NaN      NaN     F   \n",
      "\n",
      "     TYPE  \n",
      "0    WOOD  \n",
      "1    WOOD  \n",
      "2    WOOD  \n",
      "3    WOOD  \n",
      "4    WOOD  \n",
      "..    ...  \n",
      "102  ARCH  \n",
      "103  ARCH  \n",
      "104  ARCH  \n",
      "105   NaN  \n",
      "106   NaN  \n",
      "\n",
      "[107 rows x 10 columns]\n"
     ]
    }
   ],
   "source": [
    "df = pd.read_csv(\"data1.csv\")\n",
    "#2\n",
    "df.columns = ['IDENTIF','RIVER', 'LOCATION', 'ERECTED', 'PURPOSE', 'LENGTH', 'LANES', \n",
    "  'CLEAR-G', 'T-OR-D', 'MATERIAL', 'SPAN', 'REL-L', 'TYPE']\n",
    "#3\n",
    "for i in df.columns:\n",
    "    if('?' in df[i].value_counts()):\n",
    "        print(i+\" :\",df[i].value_counts()['?'])\n",
    "        \n",
    "# or\n",
    "\n",
    "cols_name = ['IDENTIF','RIVER', 'LOCATION', 'ERECTED', 'PURPOSE', 'LENGTH', 'LANES', 'CLEAR-G', 'T-OR-D', 'MATERIAL', 'SPAN', 'REL-L', 'TYPE']\n",
    "data = pd.read_csv('data1.csv' , header = None , names= cols_name , na_values = '?')\n",
    "data[data.columns[data.isna().any()]]\n",
    "data[data.columns].isna().sum()\n",
    "\n",
    "\n",
    "#4\n",
    "df = df.replace('?',np.NaN)\n",
    "c = df.filter(regex='[NHS]$')\n",
    "d = (c.shape[0]-c.isna().sum())\n",
    "df = df.drop(columns=d[d<100].index)\n",
    "#df = df.drop(columns=df.columns[(df.shape[0]-df.isna().sum())<100])\n",
    "print(df)\n",
    "\n",
    "#or\n",
    "\n",
    "col=[]\n",
    "\n",
    "for i in data.columns:\n",
    "  if i[-1] in ['N' , 'H' , 'S']:\n",
    "    col.append(i)\n",
    "d1 = data[col].notnull().sum()\n",
    "data.drop(columns = d1[d1 < 100].index,inplace= True)\n",
    "#print(data)"
   ]
  },
  {
   "cell_type": "code",
   "execution_count": 785,
   "metadata": {},
   "outputs": [
    {
     "name": "stdout",
     "output_type": "stream",
     "text": [
      "(107, 13)\n",
      "(86, 13)\n",
      "(86, 13)\n",
      "    IDENTIF RIVER LOCATION ERECTED   PURPOSE  LENGTH LANES CLEAR-G   T-OR-D  \\\n",
      "0        E2     A       25  CRAFTS   HIGHWAY  MEDIUM     2       N  THROUGH   \n",
      "1        E3     A       39  CRAFTS  AQUEDUCT  MEDIUM     1       N  THROUGH   \n",
      "2        E5     A       29  CRAFTS   HIGHWAY  MEDIUM     2       N  THROUGH   \n",
      "3        E6     M       23  CRAFTS   HIGHWAY  MEDIUM     2       N  THROUGH   \n",
      "4        E7     A       27  CRAFTS   HIGHWAY   SHORT     2       N  THROUGH   \n",
      "..      ...   ...      ...     ...       ...     ...   ...     ...      ...   \n",
      "102     E84     A       24  MODERN   HIGHWAY   SHORT     6       G  THROUGH   \n",
      "103     E91     O       44  MODERN   HIGHWAY    LONG     6       G  THROUGH   \n",
      "104     E90     M        7  MODERN   HIGHWAY   SHORT     6       G  THROUGH   \n",
      "105    E100     O       43  MODERN   HIGHWAY  MEDIUM     2       G  THROUGH   \n",
      "106    E109     A       28  MODERN   HIGHWAY  MEDIUM     2       G  THROUGH   \n",
      "\n",
      "    MATERIAL    SPAN REL-L      TYPE  \n",
      "0       WOOD   SHORT     S      WOOD  \n",
      "1       WOOD  MEDIUM     S      WOOD  \n",
      "2       WOOD   SHORT     S      WOOD  \n",
      "3       WOOD  MEDIUM     S      WOOD  \n",
      "4       WOOD  MEDIUM     S      WOOD  \n",
      "..       ...     ...   ...       ...  \n",
      "102    STEEL  MEDIUM     F      ARCH  \n",
      "103    STEEL    LONG     F      ARCH  \n",
      "104    STEEL    LONG     F      ARCH  \n",
      "105    STEEL  MEDIUM     F  SIMPLE-T  \n",
      "106    STEEL  MEDIUM     F  SIMPLE-T  \n",
      "\n",
      "[107 rows x 13 columns]\n"
     ]
    }
   ],
   "source": [
    "#5\n",
    "df = pd.read_csv(\"data1.csv\")\n",
    "df.columns = ['IDENTIF','RIVER', 'LOCATION', 'ERECTED', 'PURPOSE', 'LENGTH', 'LANES', \n",
    "  'CLEAR-G', 'T-OR-D', 'MATERIAL', 'SPAN', 'REL-L', 'TYPE']\n",
    "df.replace('?',np.NaN,inplace=True)\n",
    "print(df.shape)\n",
    "print(df[df.isna().sum(axis=1)<2].shape)\n",
    "\n",
    "data = df.copy()\n",
    "data.dropna(axis=0,thresh = 12,inplace=True)\n",
    "print(data.shape)\n",
    "\n",
    "#6\n",
    "df = pd.read_csv(\"data1.csv\")\n",
    "df.columns = ['IDENTIF','RIVER', 'LOCATION', 'ERECTED', 'PURPOSE', 'LENGTH', 'LANES', \n",
    "  'CLEAR-G', 'T-OR-D', 'MATERIAL', 'SPAN', 'REL-L', 'TYPE']\n",
    "df.replace('?',np.NaN,inplace=True)\n",
    "\n",
    "df['RIVER'] = df['RIVER'].fillna(df['RIVER'].mode()[0])# for column wise filling\n",
    "\n",
    "df.fillna(df.mode())  ## only applied on first row because df.mode() returns a dataframe with one row\n",
    "\n",
    "#df.fillna({'LANES':99},inplace=True)  # dict/series/dataframe\n",
    "\n",
    "df.fillna(df.mode().iloc[0],inplace=True) ## convert df to a series\n",
    "print(df)"
   ]
  },
  {
   "cell_type": "markdown",
   "metadata": {},
   "source": [
    "### Merging"
   ]
  },
  {
   "cell_type": "code",
   "execution_count": 811,
   "metadata": {},
   "outputs": [
    {
     "name": "stdout",
     "output_type": "stream",
     "text": [
      "    A   B   C\n",
      "0  15  12  -3\n",
      "1  33  54  21\n",
      "2  10  32  22\n",
      "    D      E  F\n",
      "0  10   1.00  3\n",
      "1  33 -54.00  2\n",
      "2  10   0.32  2\n"
     ]
    },
    {
     "data": {
      "text/html": [
       "<div>\n",
       "<style scoped>\n",
       "    .dataframe tbody tr th:only-of-type {\n",
       "        vertical-align: middle;\n",
       "    }\n",
       "\n",
       "    .dataframe tbody tr th {\n",
       "        vertical-align: top;\n",
       "    }\n",
       "\n",
       "    .dataframe thead th {\n",
       "        text-align: right;\n",
       "    }\n",
       "</style>\n",
       "<table border=\"1\" class=\"dataframe\">\n",
       "  <thead>\n",
       "    <tr style=\"text-align: right;\">\n",
       "      <th></th>\n",
       "      <th>A</th>\n",
       "      <th>B</th>\n",
       "      <th>C</th>\n",
       "      <th>D</th>\n",
       "      <th>E</th>\n",
       "      <th>F</th>\n",
       "    </tr>\n",
       "  </thead>\n",
       "  <tbody>\n",
       "    <tr>\n",
       "      <th>0</th>\n",
       "      <td>15</td>\n",
       "      <td>12</td>\n",
       "      <td>-3</td>\n",
       "      <td>10</td>\n",
       "      <td>1.00</td>\n",
       "      <td>3</td>\n",
       "    </tr>\n",
       "    <tr>\n",
       "      <th>1</th>\n",
       "      <td>33</td>\n",
       "      <td>54</td>\n",
       "      <td>21</td>\n",
       "      <td>33</td>\n",
       "      <td>-54.00</td>\n",
       "      <td>2</td>\n",
       "    </tr>\n",
       "    <tr>\n",
       "      <th>2</th>\n",
       "      <td>10</td>\n",
       "      <td>32</td>\n",
       "      <td>22</td>\n",
       "      <td>10</td>\n",
       "      <td>0.32</td>\n",
       "      <td>2</td>\n",
       "    </tr>\n",
       "  </tbody>\n",
       "</table>\n",
       "</div>"
      ],
      "text/plain": [
       "    A   B   C   D      E  F\n",
       "0  15  12  -3  10   1.00  3\n",
       "1  33  54  21  33 -54.00  2\n",
       "2  10  32  22  10   0.32  2"
      ]
     },
     "execution_count": 811,
     "metadata": {},
     "output_type": "execute_result"
    }
   ],
   "source": [
    "import pandas as pd\n",
    "data1 = pd.DataFrame([[15, 12, -3],\n",
    "                    [33, 54, 21],\n",
    "                    [10, 32, 22]],\n",
    "                    columns = list('ABC'))\n",
    "data2 = pd.DataFrame([[10, 1, 3],\n",
    "                    [33, -54, 2],\n",
    "                    [10, 0.32, 2]],\n",
    "                    columns = list('DEF'))\n",
    "print(data1)\n",
    "print(data2)\n",
    "pd.concat([data1,data2], axis = 1 )"
   ]
  },
  {
   "cell_type": "code",
   "execution_count": 813,
   "metadata": {},
   "outputs": [
    {
     "name": "stdout",
     "output_type": "stream",
     "text": [
      "          A         B         C\n",
      "0 -0.686937 -0.328019  0.994067\n",
      "1 -0.172634 -0.993084 -1.989174\n",
      "2 -1.529443  1.509481 -1.120556\n",
      "   A  B  C\n",
      "0  0  1  2\n",
      "1  3  4  5\n",
      "2  6  7  8\n",
      "          A         B         C\n",
      "0 -0.686937 -0.328019  0.994067\n",
      "1 -0.172634 -0.993084 -1.989174\n",
      "2 -1.529443  1.509481 -1.120556\n",
      "0  0.000000  1.000000  2.000000\n",
      "1  3.000000  4.000000  5.000000\n",
      "2  6.000000  7.000000  8.000000\n"
     ]
    }
   ],
   "source": [
    "import numpy as np\n",
    "import pandas as pd\n",
    "data1 = pd.DataFrame(np.random.randn(9).reshape(3,3),\n",
    "                   columns = list('ABC'))\n",
    "data2 = pd.DataFrame(np.arange(9).reshape(3,3),\n",
    "                   columns = list('ABC'))\n",
    "print(data1)     # Random values\n",
    "print(data2)\n",
    "print(pd.concat( [data1,data2], axis = 0 ))"
   ]
  },
  {
   "cell_type": "markdown",
   "metadata": {},
   "source": [
    "### Reshaping"
   ]
  },
  {
   "cell_type": "code",
   "execution_count": 816,
   "metadata": {},
   "outputs": [
    {
     "name": "stdout",
     "output_type": "stream",
     "text": [
      "MultiIndex([('IND', 'Game1'),\n",
      "            ('IND', 'Game2'),\n",
      "            ( 'US', 'Game1'),\n",
      "            ( 'US', 'Game2')],\n",
      "           names=['Country', 'Game'])\n",
      "                  Year1     Year2\n",
      "Country Game                     \n",
      "IND     Game1 -2.554321  0.810009\n",
      "        Game2 -0.444838 -0.425360\n",
      "US      Game1  1.593311 -0.030938\n",
      "        Game2 -0.172584  1.334360\n"
     ]
    }
   ],
   "source": [
    "import numpy as np\n",
    "import pandas as pd\n",
    "multi_ind = pd.MultiIndex.from_tuples(\n",
    "                                      [('IND','Game1'),\n",
    "                                       ('IND','Game2'),\n",
    "                                       ('US','Game1'),\n",
    "                                       ('US','Game2')],\n",
    "                                       names = [\n",
    "                                                'Country',\n",
    "                                                'Game'])\n",
    "print(multi_ind)\n",
    "df = pd.DataFrame(np.random.randn(4,2),     # some random values\n",
    "                  index = multi_ind,\n",
    "                  columns = ['Year1', 'Year2'])\n",
    "print(df) \n"
   ]
  },
  {
   "cell_type": "code",
   "execution_count": 817,
   "metadata": {},
   "outputs": [
    {
     "name": "stdout",
     "output_type": "stream",
     "text": [
      "Country  Game        \n",
      "IND      Game1  Year1   -2.554321\n",
      "                Year2    0.810009\n",
      "         Game2  Year1   -0.444838\n",
      "                Year2   -0.425360\n",
      "US       Game1  Year1    1.593311\n",
      "                Year2   -0.030938\n",
      "         Game2  Year1   -0.172584\n",
      "                Year2    1.334360\n",
      "dtype: float64\n",
      "            Year1               Year2         \n",
      "Game        Game1     Game2     Game1    Game2\n",
      "Country                                       \n",
      "IND     -2.554321 -0.444838  0.810009 -0.42536\n",
      "US       1.593311 -0.172584 -0.030938  1.33436\n"
     ]
    }
   ],
   "source": [
    "''' Increase in length '''\n",
    "print(df.stack())  \n",
    "''' Increase in width '''\n",
    "print(df.unstack()) "
   ]
  },
  {
   "cell_type": "markdown",
   "metadata": {},
   "source": [
    "### Pivot Tables"
   ]
  },
  {
   "cell_type": "code",
   "execution_count": 818,
   "metadata": {},
   "outputs": [
    {
     "name": "stdout",
     "output_type": "stream",
     "text": [
      "      Country   Medal   Game Score\n",
      "Year1     IND    Gold  Game1   9.9\n",
      "Year2     IND  Bronze  Game2     8\n",
      "Year1     USA  Silver  Game1   9.5\n",
      "Year2     USA    Gold  Game2   8.6\n"
     ]
    }
   ],
   "source": [
    "df = pd.DataFrame([\n",
    "            ['IND', 'Gold', 'Game1', '9.9'],\n",
    "            ['IND', 'Bronze', 'Game2', '8'],\n",
    "            ['USA', 'Silver', 'Game1', '9.5'],\n",
    "            ['USA', 'Gold', 'Game2', '8.6'],\n",
    "            ], columns = ['Country', 'Medal', \n",
    "                'Game', 'Score'],\n",
    "                index = ['Year1', 'Year2','Year1', 'Year2'])\n",
    "                  \n",
    "print(df)  "
   ]
  },
  {
   "cell_type": "code",
   "execution_count": 821,
   "metadata": {},
   "outputs": [
    {
     "name": "stdout",
     "output_type": "stream",
     "text": [
      "          Game                Score            \n",
      "Medal   Bronze   Gold Silver Bronze Gold Silver\n",
      "Country                                        \n",
      "IND      Game2  Game1    NaN      8  9.9    NaN\n",
      "USA        NaN  Game2  Game1    NaN  8.6    9.5\n",
      "\n",
      "\n",
      "Medal   Bronze Gold Silver\n",
      "Country                   \n",
      "IND          8  9.9    NaN\n",
      "USA        NaN  8.6    9.5\n"
     ]
    }
   ],
   "source": [
    "# Listing all the features\n",
    "print(df.pivot(index = 'Country', columns = 'Medal'))\n",
    "print(\"\\n\")\n",
    "print(df.pivot(index = 'Country', columns = 'Medal',values = 'Score')) \n"
   ]
  },
  {
   "cell_type": "code",
   "execution_count": 823,
   "metadata": {},
   "outputs": [
    {
     "name": "stdout",
     "output_type": "stream",
     "text": [
      "      Country   Medal   Game Score\n",
      "Year1     IND    Gold  Game1   9.9\n",
      "Year1     IND  Silver  Game1   9.5\n",
      "Year2     IND  Bronze  Game2     8\n",
      "Year1     USA  Bronze  Game1   9.0\n",
      "Year2     USA  Silver  Game2   8.6\n",
      "Game    Game1 Game2\n",
      "Country            \n",
      "IND       9.9     8\n",
      "USA       9.0   8.6\n"
     ]
    }
   ],
   "source": [
    "df = pd.DataFrame([\n",
    "            ['IND', 'Gold', 'Game1', '9.9'],\n",
    "            ['IND', 'Silver', 'Game1', '9.5'],\n",
    "            ['IND', 'Bronze', 'Game2', '8'],\n",
    "            ['USA', 'Bronze', 'Game1', '9.0'],\n",
    "            ['USA', 'Silver', 'Game2', '8.6'],\n",
    "            ], columns = ['Country', 'Medal', \n",
    "                'Game', 'Score'],\n",
    "                index = ['Year1', 'Year1', 'Year2','Year1', 'Year2'])\n",
    "                  \n",
    "print(df)\n",
    "print(df.pivot_table(index = 'Country', \n",
    "                     columns = 'Game',\n",
    "                     values = 'Score',\n",
    "                     aggfunc = np.max)) "
   ]
  },
  {
   "cell_type": "markdown",
   "metadata": {},
   "source": [
    "### Grouping"
   ]
  },
  {
   "cell_type": "code",
   "execution_count": 826,
   "metadata": {},
   "outputs": [
    {
     "name": "stdout",
     "output_type": "stream",
     "text": [
      "  Category  Sales\n",
      "0   Laptop   1000\n",
      "1   Laptop   2520\n",
      "2  Desktop   3000\n",
      "3  Desktop    400\n",
      "<pandas.core.groupby.generic.DataFrameGroupBy object at 0x0000023B076DFD08>\n",
      "          Sales\n",
      "Category       \n",
      "Laptop     3520\n",
      "Desktop    3400\n"
     ]
    }
   ],
   "source": [
    "df = pd.DataFrame([[\"Laptop\", 1000],\n",
    "                   [\"Laptop\", 2520],\n",
    "                   [\"Desktop\", 3000],\n",
    "                   [\"Desktop\", 400]], columns = ['Category','Sales'])\n",
    "print(df)\n",
    "print(df.groupby(['Category'], sort = False))\n",
    "print(df.groupby(['Category'], sort = False).sum())"
   ]
  },
  {
   "cell_type": "markdown",
   "metadata": {},
   "source": [
    "#### Exercise"
   ]
  },
  {
   "cell_type": "code",
   "execution_count": 829,
   "metadata": {},
   "outputs": [
    {
     "name": "stdout",
     "output_type": "stream",
     "text": [
      "  set_name spd_per_day  speed\n",
      "0       s1          d1    1.3\n",
      "1       s1          d1   11.4\n",
      "2       s1          d2    5.6\n",
      "3       s1          d2   12.3\n",
      "4       s2          d1    6.2\n",
      "5       s2          d1    1.1\n",
      "6       s2          d2   20.0\n",
      "7       s2          d2    8.8\n"
     ]
    }
   ],
   "source": [
    "sys = ['s1','s1','s1','s1',\n",
    "        's2','s2','s2','s2']\n",
    "net_day = ['d1','d1','d2','d2',\n",
    "        'd1','d1','d2','d2']\n",
    "spd = [1.3, 11.4, 5.6, 12.3, \n",
    "        6.2, 1.1, 20.0, 8.8]\n",
    "df = pd.DataFrame({'set_name':sys,\n",
    "                    'spd_per_day':net_day,\n",
    "                    'speed':spd})\n",
    "print(df)"
   ]
  },
  {
   "cell_type": "code",
   "execution_count": 852,
   "metadata": {},
   "outputs": [
    {
     "name": "stdout",
     "output_type": "stream",
     "text": [
      "                      Median\n",
      "set_name spd_per_day        \n",
      "s1       d1             6.35\n",
      "         d2             8.95\n",
      "s2       d1             3.65\n",
      "         d2            14.40\n",
      "                      Median\n",
      "set_name spd_per_day        \n",
      "s2       d1             3.65\n",
      "s1       d1             6.35\n",
      "         d2             8.95\n",
      "s2       d2            14.40\n"
     ]
    }
   ],
   "source": [
    "#1\n",
    "new_df = df.groupby(['set_name','spd_per_day']).median()\n",
    "new_df.rename(columns = {'speed':'Median'},inplace=True)\n",
    "print(new_df)\n",
    "#2\n",
    "new_df = df.groupby(['set_name','spd_per_day']).agg({'speed':'median'}).rename(columns = {'speed':'Median'}).sort_values(by=['Median'])\n",
    "#new_df = df.groupby(['set_name','spd_per_day'],sort=True).median()\n",
    "new_df.rename(columns = {'speed':'Median'},inplace=True)\n",
    "print(new_df)"
   ]
  },
  {
   "cell_type": "code",
   "execution_count": null,
   "metadata": {},
   "outputs": [],
   "source": []
  }
 ],
 "metadata": {
  "kernelspec": {
   "display_name": "Python 3",
   "language": "python",
   "name": "python3"
  },
  "language_info": {
   "codemirror_mode": {
    "name": "ipython",
    "version": 3
   },
   "file_extension": ".py",
   "mimetype": "text/x-python",
   "name": "python",
   "nbconvert_exporter": "python",
   "pygments_lexer": "ipython3",
   "version": "3.7.6"
  }
 },
 "nbformat": 4,
 "nbformat_minor": 4
}
